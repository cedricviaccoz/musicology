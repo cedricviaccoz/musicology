{
 "cells": [
  {
   "cell_type": "code",
   "execution_count": 1,
   "metadata": {},
   "outputs": [
    {
     "name": "stderr",
     "output_type": "stream",
     "text": [
      "/Users/Hakim/anaconda/lib/python3.5/site-packages/sklearn/cross_validation.py:41: DeprecationWarning: This module was deprecated in version 0.18 in favor of the model_selection module into which all the refactored classes and functions are moved. Also note that the interface of the new CV iterators are different from that of this module. This module will be removed in 0.20.\n",
      "  \"This module will be removed in 0.20.\", DeprecationWarning)\n",
      "/Users/Hakim/anaconda/lib/python3.5/site-packages/sklearn/grid_search.py:42: DeprecationWarning: This module was deprecated in version 0.18 in favor of the model_selection module into which all the refactored classes and functions are moved. This module will be removed in 0.20.\n",
      "  DeprecationWarning)\n"
     ]
    }
   ],
   "source": [
    "import pandas as pd\n",
    "from ast import literal_eval\n",
    "import os\n",
    "import seaborn as sns\n",
    "import numpy as np\n",
    "from sklearn.ensemble import RandomForestClassifier, AdaBoostClassifier\n",
    "from sklearn.linear_model import LinearRegression,SGDClassifier\n",
    "from sklearn.grid_search import GridSearchCV\n",
    "from sklearn.model_selection import train_test_split\n",
    "from sklearn.svm import SVC\n",
    "\n",
    "df = pd.read_csv('midi_dataframe.csv', parse_dates=[11])\n",
    "\n",
    "# Cleaning\n",
    "df.drop_duplicates(subset='file_name', inplace=True)\n",
    "df.dropna(subset=['tgdb_genres'], inplace=True)\n",
    "categories_filter = df.console.isin(['Medleys', 'Piano Only'])\n",
    "remix_filter = df.title.str.contains('[Rr]emix')\n",
    "\n",
    "df = df[~categories_filter & ~remix_filter]\n",
    "df_stripped = df.copy()\n",
    "df_stripped.title = df.title.str.replace('\\(\\d+\\)', '').str.rstrip()\n",
    "df_stripped['rank'] = df.title.str.extract('\\((\\d+)\\)', expand=False)\n",
    "df = df_stripped.sort_values(by='rank', ascending=False).groupby(['brand', 'console', 'game', 'title']).first().reset_index()\n",
    "df.set_index('file_name', inplace=True)"
   ]
  },
  {
   "cell_type": "code",
   "execution_count": 2,
   "metadata": {},
   "outputs": [
    {
     "name": "stdout",
     "output_type": "stream",
     "text": [
      "There is 22179 midi files, from 3243 games, with 22179 midis matched with tgdb\n",
      "There is 31483 midi files with computed features\n",
      "After removing not valid midi files, we have 22005 files\n"
     ]
    }
   ],
   "source": [
    "num_games = len(df.groupby(['tgdb_platform', 'tgdb_gametitle']))\n",
    "print('There is %d midi files, from %d games, with %d midis matched with tgdb'\n",
    "      %(len(df),\n",
    "        num_games,\n",
    "        (df.tgdb_gametitle.notnull().sum())))\n",
    "df_features = pd.read_csv('features.csv').set_index('file_name')\n",
    "print(\"There is %d midi files with computed features\"%(len(df_features)))\n",
    "\n",
    "print(\"After removing not valid midi files, we have %d files\"%(len(df.join(df_features, how='inner'))))"
   ]
  },
  {
   "cell_type": "code",
   "execution_count": 3,
   "metadata": {
    "collapsed": true
   },
   "outputs": [],
   "source": [
    "df_genres = df.tgdb_genres.map(literal_eval, 'ignore').apply(pd.Series).stack().reset_index(level=1, drop=True).reset_index().set_index('file_name')\n",
    "df_genres.columns = ['genre']"
   ]
  },
  {
   "cell_type": "code",
   "execution_count": 4,
   "metadata": {},
   "outputs": [
    {
     "data": {
      "text/html": [
       "<div>\n",
       "<style scoped>\n",
       "    .dataframe tbody tr th:only-of-type {\n",
       "        vertical-align: middle;\n",
       "    }\n",
       "\n",
       "    .dataframe tbody tr th {\n",
       "        vertical-align: top;\n",
       "    }\n",
       "\n",
       "    .dataframe thead th {\n",
       "        text-align: right;\n",
       "    }\n",
       "</style>\n",
       "<table border=\"1\" class=\"dataframe\">\n",
       "  <thead>\n",
       "    <tr style=\"text-align: right;\">\n",
       "      <th></th>\n",
       "      <th>file_name</th>\n",
       "      <th>genre</th>\n",
       "      <th>Prevalence_of_Most_Common_Pitch</th>\n",
       "      <th>Prevalence_of_Most_Common_Pitch_Class</th>\n",
       "      <th>Relative_Prevalence_of_Top_Pitches</th>\n",
       "      <th>Relative_Prevalence_of_Top_Pitch_Classes</th>\n",
       "      <th>Interval_Between_Most_Prevalent_Pitches</th>\n",
       "      <th>Interval_Between_Most_Prevalent_Pitch_Classes</th>\n",
       "      <th>Number_of_Common_Pitches</th>\n",
       "      <th>Pitch_Variety</th>\n",
       "      <th>...</th>\n",
       "      <th>Parallel_Motion</th>\n",
       "      <th>Similar_Motion</th>\n",
       "      <th>Contrary_Motion</th>\n",
       "      <th>Oblique_Motion</th>\n",
       "      <th>Parallel_Fifths</th>\n",
       "      <th>Parallel_Octaves</th>\n",
       "      <th>Dynamic_Range</th>\n",
       "      <th>Variation_of_Dynamics</th>\n",
       "      <th>Variation_of_Dynamics_In_Each_Voice</th>\n",
       "      <th>Average_Note_to_Note_Change_in_Dynamics</th>\n",
       "    </tr>\n",
       "  </thead>\n",
       "  <tbody>\n",
       "    <tr>\n",
       "      <th>0</th>\n",
       "      <td>0004cc74bde3bc82f44afb5f566187c3dbcea9b2.mid</td>\n",
       "      <td>Platform</td>\n",
       "      <td>0.1593</td>\n",
       "      <td>0.2242</td>\n",
       "      <td>0.7222</td>\n",
       "      <td>0.7500</td>\n",
       "      <td>5.0</td>\n",
       "      <td>5.0</td>\n",
       "      <td>2.0</td>\n",
       "      <td>28.0</td>\n",
       "      <td>...</td>\n",
       "      <td>0.0000</td>\n",
       "      <td>0.0</td>\n",
       "      <td>0.0000</td>\n",
       "      <td>0.00000</td>\n",
       "      <td>0.0</td>\n",
       "      <td>0.0</td>\n",
       "      <td>63.0</td>\n",
       "      <td>17.65</td>\n",
       "      <td>6.3240</td>\n",
       "      <td>13.7800</td>\n",
       "    </tr>\n",
       "    <tr>\n",
       "      <th>1</th>\n",
       "      <td>0005d95e4aed74b84826f6090fcc8e52bceb5cb3.mid</td>\n",
       "      <td>Action</td>\n",
       "      <td>0.1316</td>\n",
       "      <td>0.2368</td>\n",
       "      <td>0.6000</td>\n",
       "      <td>0.7037</td>\n",
       "      <td>5.0</td>\n",
       "      <td>7.0</td>\n",
       "      <td>1.0</td>\n",
       "      <td>20.0</td>\n",
       "      <td>...</td>\n",
       "      <td>0.6522</td>\n",
       "      <td>0.0</td>\n",
       "      <td>0.2609</td>\n",
       "      <td>0.08696</td>\n",
       "      <td>0.0</td>\n",
       "      <td>0.0</td>\n",
       "      <td>47.0</td>\n",
       "      <td>19.18</td>\n",
       "      <td>0.8643</td>\n",
       "      <td>0.3128</td>\n",
       "    </tr>\n",
       "    <tr>\n",
       "      <th>2</th>\n",
       "      <td>0005d95e4aed74b84826f6090fcc8e52bceb5cb3.mid</td>\n",
       "      <td>Adventure</td>\n",
       "      <td>0.1316</td>\n",
       "      <td>0.2368</td>\n",
       "      <td>0.6000</td>\n",
       "      <td>0.7037</td>\n",
       "      <td>5.0</td>\n",
       "      <td>7.0</td>\n",
       "      <td>1.0</td>\n",
       "      <td>20.0</td>\n",
       "      <td>...</td>\n",
       "      <td>0.6522</td>\n",
       "      <td>0.0</td>\n",
       "      <td>0.2609</td>\n",
       "      <td>0.08696</td>\n",
       "      <td>0.0</td>\n",
       "      <td>0.0</td>\n",
       "      <td>47.0</td>\n",
       "      <td>19.18</td>\n",
       "      <td>0.8643</td>\n",
       "      <td>0.3128</td>\n",
       "    </tr>\n",
       "    <tr>\n",
       "      <th>3</th>\n",
       "      <td>0005d95e4aed74b84826f6090fcc8e52bceb5cb3.mid</td>\n",
       "      <td>Sports</td>\n",
       "      <td>0.1316</td>\n",
       "      <td>0.2368</td>\n",
       "      <td>0.6000</td>\n",
       "      <td>0.7037</td>\n",
       "      <td>5.0</td>\n",
       "      <td>7.0</td>\n",
       "      <td>1.0</td>\n",
       "      <td>20.0</td>\n",
       "      <td>...</td>\n",
       "      <td>0.6522</td>\n",
       "      <td>0.0</td>\n",
       "      <td>0.2609</td>\n",
       "      <td>0.08696</td>\n",
       "      <td>0.0</td>\n",
       "      <td>0.0</td>\n",
       "      <td>47.0</td>\n",
       "      <td>19.18</td>\n",
       "      <td>0.8643</td>\n",
       "      <td>0.3128</td>\n",
       "    </tr>\n",
       "    <tr>\n",
       "      <th>4</th>\n",
       "      <td>0005d95e4aed74b84826f6090fcc8e52bceb5cb3.mid</td>\n",
       "      <td>Strategy</td>\n",
       "      <td>0.1316</td>\n",
       "      <td>0.2368</td>\n",
       "      <td>0.6000</td>\n",
       "      <td>0.7037</td>\n",
       "      <td>5.0</td>\n",
       "      <td>7.0</td>\n",
       "      <td>1.0</td>\n",
       "      <td>20.0</td>\n",
       "      <td>...</td>\n",
       "      <td>0.6522</td>\n",
       "      <td>0.0</td>\n",
       "      <td>0.2609</td>\n",
       "      <td>0.08696</td>\n",
       "      <td>0.0</td>\n",
       "      <td>0.0</td>\n",
       "      <td>47.0</td>\n",
       "      <td>19.18</td>\n",
       "      <td>0.8643</td>\n",
       "      <td>0.3128</td>\n",
       "    </tr>\n",
       "  </tbody>\n",
       "</table>\n",
       "<p>5 rows × 158 columns</p>\n",
       "</div>"
      ],
      "text/plain": [
       "                                      file_name      genre  \\\n",
       "0  0004cc74bde3bc82f44afb5f566187c3dbcea9b2.mid   Platform   \n",
       "1  0005d95e4aed74b84826f6090fcc8e52bceb5cb3.mid     Action   \n",
       "2  0005d95e4aed74b84826f6090fcc8e52bceb5cb3.mid  Adventure   \n",
       "3  0005d95e4aed74b84826f6090fcc8e52bceb5cb3.mid     Sports   \n",
       "4  0005d95e4aed74b84826f6090fcc8e52bceb5cb3.mid   Strategy   \n",
       "\n",
       "   Prevalence_of_Most_Common_Pitch  Prevalence_of_Most_Common_Pitch_Class  \\\n",
       "0                           0.1593                                 0.2242   \n",
       "1                           0.1316                                 0.2368   \n",
       "2                           0.1316                                 0.2368   \n",
       "3                           0.1316                                 0.2368   \n",
       "4                           0.1316                                 0.2368   \n",
       "\n",
       "   Relative_Prevalence_of_Top_Pitches  \\\n",
       "0                              0.7222   \n",
       "1                              0.6000   \n",
       "2                              0.6000   \n",
       "3                              0.6000   \n",
       "4                              0.6000   \n",
       "\n",
       "   Relative_Prevalence_of_Top_Pitch_Classes  \\\n",
       "0                                    0.7500   \n",
       "1                                    0.7037   \n",
       "2                                    0.7037   \n",
       "3                                    0.7037   \n",
       "4                                    0.7037   \n",
       "\n",
       "   Interval_Between_Most_Prevalent_Pitches  \\\n",
       "0                                      5.0   \n",
       "1                                      5.0   \n",
       "2                                      5.0   \n",
       "3                                      5.0   \n",
       "4                                      5.0   \n",
       "\n",
       "   Interval_Between_Most_Prevalent_Pitch_Classes  Number_of_Common_Pitches  \\\n",
       "0                                            5.0                       2.0   \n",
       "1                                            7.0                       1.0   \n",
       "2                                            7.0                       1.0   \n",
       "3                                            7.0                       1.0   \n",
       "4                                            7.0                       1.0   \n",
       "\n",
       "   Pitch_Variety                   ...                     Parallel_Motion  \\\n",
       "0           28.0                   ...                              0.0000   \n",
       "1           20.0                   ...                              0.6522   \n",
       "2           20.0                   ...                              0.6522   \n",
       "3           20.0                   ...                              0.6522   \n",
       "4           20.0                   ...                              0.6522   \n",
       "\n",
       "   Similar_Motion  Contrary_Motion  Oblique_Motion  Parallel_Fifths  \\\n",
       "0             0.0           0.0000         0.00000              0.0   \n",
       "1             0.0           0.2609         0.08696              0.0   \n",
       "2             0.0           0.2609         0.08696              0.0   \n",
       "3             0.0           0.2609         0.08696              0.0   \n",
       "4             0.0           0.2609         0.08696              0.0   \n",
       "\n",
       "   Parallel_Octaves  Dynamic_Range  Variation_of_Dynamics  \\\n",
       "0               0.0           63.0                  17.65   \n",
       "1               0.0           47.0                  19.18   \n",
       "2               0.0           47.0                  19.18   \n",
       "3               0.0           47.0                  19.18   \n",
       "4               0.0           47.0                  19.18   \n",
       "\n",
       "   Variation_of_Dynamics_In_Each_Voice  \\\n",
       "0                               6.3240   \n",
       "1                               0.8643   \n",
       "2                               0.8643   \n",
       "3                               0.8643   \n",
       "4                               0.8643   \n",
       "\n",
       "   Average_Note_to_Note_Change_in_Dynamics  \n",
       "0                                  13.7800  \n",
       "1                                   0.3128  \n",
       "2                                   0.3128  \n",
       "3                                   0.3128  \n",
       "4                                   0.3128  \n",
       "\n",
       "[5 rows x 158 columns]"
      ]
     },
     "execution_count": 4,
     "metadata": {},
     "output_type": "execute_result"
    }
   ],
   "source": [
    "df_pred = df_genres.join(df_features, how='inner').reset_index()\n",
    "df_pred.head()"
   ]
  },
  {
   "cell_type": "code",
   "execution_count": 5,
   "metadata": {},
   "outputs": [
    {
     "data": {
      "text/plain": [
       "((27010, 156), (27010,))"
      ]
     },
     "execution_count": 5,
     "metadata": {},
     "output_type": "execute_result"
    }
   ],
   "source": [
    "df_pred = df_pred.replace([np.inf, -np.inf], np.nan).dropna()\n",
    "df_pred = df_pred[(df_pred['genre'] == 'Action') | (df_pred['genre'] == 'Role-Playing') | (df_pred['genre'] == 'Platform') | (df_pred['genre'] == 'Adventure') | (df_pred['genre'] == 'Shooter')]\n",
    "X = df_pred.iloc[:, 2:]\n",
    "y = df_pred['genre']\n",
    "X.shape, y.shape"
   ]
  },
  {
   "cell_type": "code",
   "execution_count": 6,
   "metadata": {},
   "outputs": [
    {
     "data": {
      "text/html": [
       "<div>\n",
       "<style scoped>\n",
       "    .dataframe tbody tr th:only-of-type {\n",
       "        vertical-align: middle;\n",
       "    }\n",
       "\n",
       "    .dataframe tbody tr th {\n",
       "        vertical-align: top;\n",
       "    }\n",
       "\n",
       "    .dataframe thead th {\n",
       "        text-align: right;\n",
       "    }\n",
       "</style>\n",
       "<table border=\"1\" class=\"dataframe\">\n",
       "  <thead>\n",
       "    <tr style=\"text-align: right;\">\n",
       "      <th></th>\n",
       "      <th>Prevalence_of_Most_Common_Pitch</th>\n",
       "      <th>Prevalence_of_Most_Common_Pitch_Class</th>\n",
       "      <th>Relative_Prevalence_of_Top_Pitches</th>\n",
       "      <th>Relative_Prevalence_of_Top_Pitch_Classes</th>\n",
       "      <th>Interval_Between_Most_Prevalent_Pitches</th>\n",
       "      <th>Interval_Between_Most_Prevalent_Pitch_Classes</th>\n",
       "      <th>Number_of_Common_Pitches</th>\n",
       "      <th>Pitch_Variety</th>\n",
       "      <th>Pitch_Class_Variety</th>\n",
       "      <th>Range</th>\n",
       "      <th>...</th>\n",
       "      <th>Parallel_Motion</th>\n",
       "      <th>Similar_Motion</th>\n",
       "      <th>Contrary_Motion</th>\n",
       "      <th>Oblique_Motion</th>\n",
       "      <th>Parallel_Fifths</th>\n",
       "      <th>Parallel_Octaves</th>\n",
       "      <th>Dynamic_Range</th>\n",
       "      <th>Variation_of_Dynamics</th>\n",
       "      <th>Variation_of_Dynamics_In_Each_Voice</th>\n",
       "      <th>Average_Note_to_Note_Change_in_Dynamics</th>\n",
       "    </tr>\n",
       "  </thead>\n",
       "  <tbody>\n",
       "    <tr>\n",
       "      <th>0</th>\n",
       "      <td>0.1593</td>\n",
       "      <td>0.2242</td>\n",
       "      <td>0.7222</td>\n",
       "      <td>0.7500</td>\n",
       "      <td>5.0</td>\n",
       "      <td>5.0</td>\n",
       "      <td>2.0</td>\n",
       "      <td>28.0</td>\n",
       "      <td>12.0</td>\n",
       "      <td>53.0</td>\n",
       "      <td>...</td>\n",
       "      <td>0.00000</td>\n",
       "      <td>0.0000</td>\n",
       "      <td>0.00000</td>\n",
       "      <td>0.00000</td>\n",
       "      <td>0.00000</td>\n",
       "      <td>0.000000</td>\n",
       "      <td>63.0</td>\n",
       "      <td>17.65</td>\n",
       "      <td>6.3240</td>\n",
       "      <td>13.7800</td>\n",
       "    </tr>\n",
       "    <tr>\n",
       "      <th>1</th>\n",
       "      <td>0.1316</td>\n",
       "      <td>0.2368</td>\n",
       "      <td>0.6000</td>\n",
       "      <td>0.7037</td>\n",
       "      <td>5.0</td>\n",
       "      <td>7.0</td>\n",
       "      <td>1.0</td>\n",
       "      <td>20.0</td>\n",
       "      <td>8.0</td>\n",
       "      <td>36.0</td>\n",
       "      <td>...</td>\n",
       "      <td>0.65220</td>\n",
       "      <td>0.0000</td>\n",
       "      <td>0.26090</td>\n",
       "      <td>0.08696</td>\n",
       "      <td>0.00000</td>\n",
       "      <td>0.000000</td>\n",
       "      <td>47.0</td>\n",
       "      <td>19.18</td>\n",
       "      <td>0.8643</td>\n",
       "      <td>0.3128</td>\n",
       "    </tr>\n",
       "    <tr>\n",
       "      <th>2</th>\n",
       "      <td>0.1316</td>\n",
       "      <td>0.2368</td>\n",
       "      <td>0.6000</td>\n",
       "      <td>0.7037</td>\n",
       "      <td>5.0</td>\n",
       "      <td>7.0</td>\n",
       "      <td>1.0</td>\n",
       "      <td>20.0</td>\n",
       "      <td>8.0</td>\n",
       "      <td>36.0</td>\n",
       "      <td>...</td>\n",
       "      <td>0.65220</td>\n",
       "      <td>0.0000</td>\n",
       "      <td>0.26090</td>\n",
       "      <td>0.08696</td>\n",
       "      <td>0.00000</td>\n",
       "      <td>0.000000</td>\n",
       "      <td>47.0</td>\n",
       "      <td>19.18</td>\n",
       "      <td>0.8643</td>\n",
       "      <td>0.3128</td>\n",
       "    </tr>\n",
       "    <tr>\n",
       "      <th>5</th>\n",
       "      <td>0.1737</td>\n",
       "      <td>0.3215</td>\n",
       "      <td>0.8037</td>\n",
       "      <td>0.9109</td>\n",
       "      <td>19.0</td>\n",
       "      <td>5.0</td>\n",
       "      <td>6.0</td>\n",
       "      <td>18.0</td>\n",
       "      <td>9.0</td>\n",
       "      <td>32.0</td>\n",
       "      <td>...</td>\n",
       "      <td>0.05882</td>\n",
       "      <td>0.4006</td>\n",
       "      <td>0.07283</td>\n",
       "      <td>0.46780</td>\n",
       "      <td>0.02801</td>\n",
       "      <td>0.000000</td>\n",
       "      <td>61.0</td>\n",
       "      <td>10.66</td>\n",
       "      <td>9.8330</td>\n",
       "      <td>0.1922</td>\n",
       "    </tr>\n",
       "    <tr>\n",
       "      <th>6</th>\n",
       "      <td>0.1345</td>\n",
       "      <td>0.2461</td>\n",
       "      <td>0.8797</td>\n",
       "      <td>0.9471</td>\n",
       "      <td>43.0</td>\n",
       "      <td>7.0</td>\n",
       "      <td>4.0</td>\n",
       "      <td>28.0</td>\n",
       "      <td>8.0</td>\n",
       "      <td>67.0</td>\n",
       "      <td>...</td>\n",
       "      <td>0.10760</td>\n",
       "      <td>0.4637</td>\n",
       "      <td>0.05523</td>\n",
       "      <td>0.37350</td>\n",
       "      <td>0.06250</td>\n",
       "      <td>0.007267</td>\n",
       "      <td>125.0</td>\n",
       "      <td>27.31</td>\n",
       "      <td>11.2000</td>\n",
       "      <td>2.4050</td>\n",
       "    </tr>\n",
       "  </tbody>\n",
       "</table>\n",
       "<p>5 rows × 156 columns</p>\n",
       "</div>"
      ],
      "text/plain": [
       "   Prevalence_of_Most_Common_Pitch  Prevalence_of_Most_Common_Pitch_Class  \\\n",
       "0                           0.1593                                 0.2242   \n",
       "1                           0.1316                                 0.2368   \n",
       "2                           0.1316                                 0.2368   \n",
       "5                           0.1737                                 0.3215   \n",
       "6                           0.1345                                 0.2461   \n",
       "\n",
       "   Relative_Prevalence_of_Top_Pitches  \\\n",
       "0                              0.7222   \n",
       "1                              0.6000   \n",
       "2                              0.6000   \n",
       "5                              0.8037   \n",
       "6                              0.8797   \n",
       "\n",
       "   Relative_Prevalence_of_Top_Pitch_Classes  \\\n",
       "0                                    0.7500   \n",
       "1                                    0.7037   \n",
       "2                                    0.7037   \n",
       "5                                    0.9109   \n",
       "6                                    0.9471   \n",
       "\n",
       "   Interval_Between_Most_Prevalent_Pitches  \\\n",
       "0                                      5.0   \n",
       "1                                      5.0   \n",
       "2                                      5.0   \n",
       "5                                     19.0   \n",
       "6                                     43.0   \n",
       "\n",
       "   Interval_Between_Most_Prevalent_Pitch_Classes  Number_of_Common_Pitches  \\\n",
       "0                                            5.0                       2.0   \n",
       "1                                            7.0                       1.0   \n",
       "2                                            7.0                       1.0   \n",
       "5                                            5.0                       6.0   \n",
       "6                                            7.0                       4.0   \n",
       "\n",
       "   Pitch_Variety  Pitch_Class_Variety  Range  \\\n",
       "0           28.0                 12.0   53.0   \n",
       "1           20.0                  8.0   36.0   \n",
       "2           20.0                  8.0   36.0   \n",
       "5           18.0                  9.0   32.0   \n",
       "6           28.0                  8.0   67.0   \n",
       "\n",
       "                    ...                     Parallel_Motion  Similar_Motion  \\\n",
       "0                   ...                             0.00000          0.0000   \n",
       "1                   ...                             0.65220          0.0000   \n",
       "2                   ...                             0.65220          0.0000   \n",
       "5                   ...                             0.05882          0.4006   \n",
       "6                   ...                             0.10760          0.4637   \n",
       "\n",
       "   Contrary_Motion  Oblique_Motion  Parallel_Fifths  Parallel_Octaves  \\\n",
       "0          0.00000         0.00000          0.00000          0.000000   \n",
       "1          0.26090         0.08696          0.00000          0.000000   \n",
       "2          0.26090         0.08696          0.00000          0.000000   \n",
       "5          0.07283         0.46780          0.02801          0.000000   \n",
       "6          0.05523         0.37350          0.06250          0.007267   \n",
       "\n",
       "   Dynamic_Range  Variation_of_Dynamics  Variation_of_Dynamics_In_Each_Voice  \\\n",
       "0           63.0                  17.65                               6.3240   \n",
       "1           47.0                  19.18                               0.8643   \n",
       "2           47.0                  19.18                               0.8643   \n",
       "5           61.0                  10.66                               9.8330   \n",
       "6          125.0                  27.31                              11.2000   \n",
       "\n",
       "   Average_Note_to_Note_Change_in_Dynamics  \n",
       "0                                  13.7800  \n",
       "1                                   0.3128  \n",
       "2                                   0.3128  \n",
       "5                                   0.1922  \n",
       "6                                   2.4050  \n",
       "\n",
       "[5 rows x 156 columns]"
      ]
     },
     "execution_count": 6,
     "metadata": {},
     "output_type": "execute_result"
    }
   ],
   "source": [
    "X.head()"
   ]
  },
  {
   "cell_type": "code",
   "execution_count": 7,
   "metadata": {},
   "outputs": [
    {
     "data": {
      "text/plain": [
       "0        Platform\n",
       "1          Action\n",
       "2       Adventure\n",
       "5    Role-Playing\n",
       "6       Adventure\n",
       "Name: genre, dtype: object"
      ]
     },
     "execution_count": 7,
     "metadata": {},
     "output_type": "execute_result"
    }
   ],
   "source": [
    "y.head()"
   ]
  },
  {
   "cell_type": "code",
   "execution_count": 8,
   "metadata": {},
   "outputs": [
    {
     "name": "stdout",
     "output_type": "stream",
     "text": [
      "16206 MIDIs are used for training, 10804 are used for testing.\n"
     ]
    }
   ],
   "source": [
    "X_train, X_test, y_train, y_test = train_test_split(X, y, test_size=0.4, shuffle = True, random_state=42)\n",
    "print(str(X_train.shape[0]) + \" MIDIs are used for training, \" + str(X_test.shape[0]) + \" are used for testing.\")"
   ]
  },
  {
   "cell_type": "code",
   "execution_count": 9,
   "metadata": {},
   "outputs": [
    {
     "data": {
      "text/plain": [
       "((16206, 156), (16206,))"
      ]
     },
     "execution_count": 9,
     "metadata": {},
     "output_type": "execute_result"
    }
   ],
   "source": [
    "X_train.shape, y_train.shape"
   ]
  },
  {
   "cell_type": "code",
   "execution_count": 10,
   "metadata": {},
   "outputs": [
    {
     "data": {
      "text/plain": [
       "((10804, 156), (10804,))"
      ]
     },
     "execution_count": 10,
     "metadata": {},
     "output_type": "execute_result"
    }
   ],
   "source": [
    "X_test.shape, y_test.shape"
   ]
  },
  {
   "cell_type": "code",
   "execution_count": 11,
   "metadata": {},
   "outputs": [
    {
     "data": {
      "text/plain": [
       "0.30090707145501666"
      ]
     },
     "execution_count": 11,
     "metadata": {},
     "output_type": "execute_result"
    }
   ],
   "source": [
    "rfc = RandomForestClassifier(n_estimators=30, max_features = None, max_depth = 10, random_state = 1)\n",
    "rfc.fit(X_train, y_train)\n",
    "rfc.score(X_test, y_test)"
   ]
  },
  {
   "cell_type": "code",
   "execution_count": 12,
   "metadata": {},
   "outputs": [
    {
     "name": "stdout",
     "output_type": "stream",
     "text": [
      "16206 MIDIs are used for training, 10804 are used for testing.\n"
     ]
    },
    {
     "data": {
      "text/plain": [
       "0.03197849584802759"
      ]
     },
     "execution_count": 12,
     "metadata": {},
     "output_type": "execute_result"
    }
   ],
   "source": [
    "y_factorized, uniques = pd.factorize(y)\n",
    "\n",
    "X_train, X_test, y_train_factorized, y_test_factorized = train_test_split(X, y_factorized, test_size=0.4, shuffle = True, random_state=42)\n",
    "\n",
    "print(str(X_train.shape[0]) + \" MIDIs are used for training, \" + str(X_test.shape[0]) + \" are used for testing.\")\n",
    "\n",
    "lrc = LinearRegression()\n",
    "lrc.fit(X_train, y_train_factorized)\n",
    "lrc.score(X_test, y_test_factorized)"
   ]
  },
  {
   "cell_type": "code",
   "execution_count": 13,
   "metadata": {},
   "outputs": [
    {
     "data": {
      "text/plain": [
       "0.31173639392817476"
      ]
     },
     "execution_count": 13,
     "metadata": {},
     "output_type": "execute_result"
    }
   ],
   "source": [
    "sgc = SGDClassifier(max_iter=1000)\n",
    "sgc.fit(X_train, y_train_factorized)\n",
    "sgc.score(X_test, y_test_factorized)"
   ]
  },
  {
   "cell_type": "code",
   "execution_count": 25,
   "metadata": {},
   "outputs": [
    {
     "data": {
      "text/plain": [
       "{'max_features': None, 'n_estimators': 200}"
      ]
     },
     "execution_count": 25,
     "metadata": {},
     "output_type": "execute_result"
    }
   ],
   "source": [
    "param_grid = { \n",
    "    'n_estimators': [100, 200],\n",
    "    'max_features': [None],\n",
    "   # 'max_depth'   : [2, 10, 20]    \n",
    "}\n",
    "\n",
    "rfc = RandomForestClassifier(random_state = 1) \n",
    "cross_validation_rfc = GridSearchCV(estimator=rfc, param_grid=param_grid)\n",
    "cross_validation_rfc.fit(X_train, y_train)\n",
    "cross_validation_rfc.best_params_"
   ]
  },
  {
   "cell_type": "code",
   "execution_count": 27,
   "metadata": {},
   "outputs": [
    {
     "data": {
      "text/plain": [
       "0.29606318647414537"
      ]
     },
     "execution_count": 27,
     "metadata": {},
     "output_type": "execute_result"
    }
   ],
   "source": [
    "cross_validation_rfc.best_score_"
   ]
  },
  {
   "cell_type": "code",
   "execution_count": 21,
   "metadata": {},
   "outputs": [
    {
     "data": {
      "text/plain": [
       "0.1751203258052573"
      ]
     },
     "execution_count": 21,
     "metadata": {},
     "output_type": "execute_result"
    }
   ],
   "source": [
    "clf = SVC(kernel = 'rbf', gamma=1)\n",
    "clf.fit(X_train, y_train_factorized) \n",
    "clf.score(X_test, y_test_factorized)"
   ]
  },
  {
   "cell_type": "code",
   "execution_count": 17,
   "metadata": {},
   "outputs": [
    {
     "data": {
      "text/plain": [
       "0.3565346168085894"
      ]
     },
     "execution_count": 17,
     "metadata": {},
     "output_type": "execute_result"
    }
   ],
   "source": [
    "abc = AdaBoostClassifier()\n",
    "abc.fit(X_train, y_train_factorized)\n",
    "abc.score(X_test, y_test_factorized)"
   ]
  }
 ],
 "metadata": {
  "kernelspec": {
   "display_name": "Python [default]",
   "language": "python",
   "name": "python3"
  },
  "language_info": {
   "codemirror_mode": {
    "name": "ipython",
    "version": 3
   },
   "file_extension": ".py",
   "mimetype": "text/x-python",
   "name": "python",
   "nbconvert_exporter": "python",
   "pygments_lexer": "ipython3",
   "version": "3.5.3"
  }
 },
 "nbformat": 4,
 "nbformat_minor": 2
}
