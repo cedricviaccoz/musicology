{
 "cells": [
  {
   "cell_type": "markdown",
   "metadata": {},
   "source": [
    "# Game Music dataset: genre classification"
   ]
  },
  {
   "cell_type": "code",
   "execution_count": 1,
   "metadata": {
    "collapsed": true
   },
   "outputs": [],
   "source": [
    "import warnings\n",
    "warnings.filterwarnings('ignore')"
   ]
  },
  {
   "cell_type": "code",
   "execution_count": 2,
   "metadata": {},
   "outputs": [],
   "source": [
    "import pandas as pd\n",
    "from ast import literal_eval\n",
    "import os\n",
    "import seaborn as sns\n",
    "import numpy as np\n",
    "from sklearn.ensemble import RandomForestClassifier, AdaBoostClassifier\n",
    "from sklearn.linear_model import LinearRegression, LogisticRegression\n",
    "from sklearn.model_selection import train_test_split\n",
    "from sklearn.svm import SVC\n",
    "from sklearn.decomposition import PCA\n",
    "from sklearn.preprocessing import StandardScaler \n",
    "from sklearn.metrics import confusion_matrix\n",
    "import matplotlib.pyplot as plt\n",
    "\n",
    "df = pd.read_csv('midi_dataframe.csv', parse_dates=[11])\n",
    "# Cleaning\n",
    "df.drop_duplicates(subset='file_name', inplace=True)\n",
    "df.dropna(subset=['tgdb_genres'], inplace=True)\n",
    "categories_filter = df.console.isin(['Medleys', 'Piano Only'])\n",
    "remix_filter = df.title.str.contains('[Rr]emix')\n",
    "\n",
    "df = df[~categories_filter & ~remix_filter]\n",
    "df_stripped = df.copy()\n",
    "df_stripped.title = df.title.str.replace('\\(\\d+\\)', '').str.rstrip()\n",
    "df_stripped['rank'] = df.title.str.extract('\\((\\d+)\\)', expand=False)\n",
    "df = df_stripped.sort_values(by='rank', ascending=False).groupby(['brand', 'console', 'game', 'title']).first().reset_index()\n",
    "df.set_index('file_name', inplace=True)"
   ]
  },
  {
   "cell_type": "code",
   "execution_count": 3,
   "metadata": {},
   "outputs": [
    {
     "name": "stdout",
     "output_type": "stream",
     "text": [
      "There is 22179 midi files, from 3243 games, with 22179 midis matched with tgdb\n",
      "There is 31483 midi files with computed features\n",
      "After removing not valid midi files, we have 22005 files\n"
     ]
    }
   ],
   "source": [
    "num_games = len(df.groupby(['tgdb_platform', 'tgdb_gametitle']))\n",
    "print('There is %d midi files, from %d games, with %d midis matched with tgdb'\n",
    "      %(len(df),\n",
    "        num_games,\n",
    "        (df.tgdb_gametitle.notnull().sum())))\n",
    "df_features = pd.read_csv('features.csv').set_index('file_name')\n",
    "print(\"There is %d midi files with computed features\"%(len(df_features)))\n",
    "\n",
    "print(\"After removing not valid midi files, we have %d files\"%(len(df.join(df_features, how='inner'))))"
   ]
  },
  {
   "cell_type": "code",
   "execution_count": 4,
   "metadata": {},
   "outputs": [],
   "source": [
    "#df = pd.read_csv('midi_dataframe_cleaned.csv', parse_dates=[11])\n",
    "#df.set_index('file_name', inplace=True)\n",
    "df_genres = df.tgdb_genres.map(literal_eval, 'ignore').apply(pd.Series).stack().reset_index(level=1, drop=True).reset_index().set_index('file_name')\n",
    "df_genres.columns = ['genre']"
   ]
  },
  {
   "cell_type": "markdown",
   "metadata": {},
   "source": [
    "# Problem statement"
   ]
  },
  {
   "cell_type": "markdown",
   "metadata": {},
   "source": [
    "By joining the game music dataframe with the features dataset produced by JSimbolic, the final dataset to be used for the classification task is obtained.\n",
    "\n",
    "This dataset provides 156 musical feature for each valid midi. "
   ]
  },
  {
   "cell_type": "code",
   "execution_count": 5,
   "metadata": {},
   "outputs": [
    {
     "data": {
      "text/html": [
       "<div>\n",
       "<style scoped>\n",
       "    .dataframe tbody tr th:only-of-type {\n",
       "        vertical-align: middle;\n",
       "    }\n",
       "\n",
       "    .dataframe tbody tr th {\n",
       "        vertical-align: top;\n",
       "    }\n",
       "\n",
       "    .dataframe thead th {\n",
       "        text-align: right;\n",
       "    }\n",
       "</style>\n",
       "<table border=\"1\" class=\"dataframe\">\n",
       "  <thead>\n",
       "    <tr style=\"text-align: right;\">\n",
       "      <th></th>\n",
       "      <th>file_name</th>\n",
       "      <th>genre</th>\n",
       "      <th>Prevalence_of_Most_Common_Pitch</th>\n",
       "      <th>Prevalence_of_Most_Common_Pitch_Class</th>\n",
       "      <th>Relative_Prevalence_of_Top_Pitches</th>\n",
       "      <th>Relative_Prevalence_of_Top_Pitch_Classes</th>\n",
       "      <th>Interval_Between_Most_Prevalent_Pitches</th>\n",
       "      <th>Interval_Between_Most_Prevalent_Pitch_Classes</th>\n",
       "      <th>Number_of_Common_Pitches</th>\n",
       "      <th>Pitch_Variety</th>\n",
       "      <th>...</th>\n",
       "      <th>Parallel_Motion</th>\n",
       "      <th>Similar_Motion</th>\n",
       "      <th>Contrary_Motion</th>\n",
       "      <th>Oblique_Motion</th>\n",
       "      <th>Parallel_Fifths</th>\n",
       "      <th>Parallel_Octaves</th>\n",
       "      <th>Dynamic_Range</th>\n",
       "      <th>Variation_of_Dynamics</th>\n",
       "      <th>Variation_of_Dynamics_In_Each_Voice</th>\n",
       "      <th>Average_Note_to_Note_Change_in_Dynamics</th>\n",
       "    </tr>\n",
       "  </thead>\n",
       "  <tbody>\n",
       "    <tr>\n",
       "      <th>0</th>\n",
       "      <td>0004cc74bde3bc82f44afb5f566187c3dbcea9b2.mid</td>\n",
       "      <td>Platform</td>\n",
       "      <td>0.1593</td>\n",
       "      <td>0.2242</td>\n",
       "      <td>0.7222</td>\n",
       "      <td>0.7500</td>\n",
       "      <td>5.0</td>\n",
       "      <td>5.0</td>\n",
       "      <td>2.0</td>\n",
       "      <td>28.0</td>\n",
       "      <td>...</td>\n",
       "      <td>0.0000</td>\n",
       "      <td>0.0</td>\n",
       "      <td>0.0000</td>\n",
       "      <td>0.00000</td>\n",
       "      <td>0.0</td>\n",
       "      <td>0.0</td>\n",
       "      <td>63.0</td>\n",
       "      <td>17.65</td>\n",
       "      <td>6.3240</td>\n",
       "      <td>13.7800</td>\n",
       "    </tr>\n",
       "    <tr>\n",
       "      <th>1</th>\n",
       "      <td>0005d95e4aed74b84826f6090fcc8e52bceb5cb3.mid</td>\n",
       "      <td>Action</td>\n",
       "      <td>0.1316</td>\n",
       "      <td>0.2368</td>\n",
       "      <td>0.6000</td>\n",
       "      <td>0.7037</td>\n",
       "      <td>5.0</td>\n",
       "      <td>7.0</td>\n",
       "      <td>1.0</td>\n",
       "      <td>20.0</td>\n",
       "      <td>...</td>\n",
       "      <td>0.6522</td>\n",
       "      <td>0.0</td>\n",
       "      <td>0.2609</td>\n",
       "      <td>0.08696</td>\n",
       "      <td>0.0</td>\n",
       "      <td>0.0</td>\n",
       "      <td>47.0</td>\n",
       "      <td>19.18</td>\n",
       "      <td>0.8643</td>\n",
       "      <td>0.3128</td>\n",
       "    </tr>\n",
       "    <tr>\n",
       "      <th>2</th>\n",
       "      <td>0005d95e4aed74b84826f6090fcc8e52bceb5cb3.mid</td>\n",
       "      <td>Adventure</td>\n",
       "      <td>0.1316</td>\n",
       "      <td>0.2368</td>\n",
       "      <td>0.6000</td>\n",
       "      <td>0.7037</td>\n",
       "      <td>5.0</td>\n",
       "      <td>7.0</td>\n",
       "      <td>1.0</td>\n",
       "      <td>20.0</td>\n",
       "      <td>...</td>\n",
       "      <td>0.6522</td>\n",
       "      <td>0.0</td>\n",
       "      <td>0.2609</td>\n",
       "      <td>0.08696</td>\n",
       "      <td>0.0</td>\n",
       "      <td>0.0</td>\n",
       "      <td>47.0</td>\n",
       "      <td>19.18</td>\n",
       "      <td>0.8643</td>\n",
       "      <td>0.3128</td>\n",
       "    </tr>\n",
       "    <tr>\n",
       "      <th>3</th>\n",
       "      <td>0005d95e4aed74b84826f6090fcc8e52bceb5cb3.mid</td>\n",
       "      <td>Sports</td>\n",
       "      <td>0.1316</td>\n",
       "      <td>0.2368</td>\n",
       "      <td>0.6000</td>\n",
       "      <td>0.7037</td>\n",
       "      <td>5.0</td>\n",
       "      <td>7.0</td>\n",
       "      <td>1.0</td>\n",
       "      <td>20.0</td>\n",
       "      <td>...</td>\n",
       "      <td>0.6522</td>\n",
       "      <td>0.0</td>\n",
       "      <td>0.2609</td>\n",
       "      <td>0.08696</td>\n",
       "      <td>0.0</td>\n",
       "      <td>0.0</td>\n",
       "      <td>47.0</td>\n",
       "      <td>19.18</td>\n",
       "      <td>0.8643</td>\n",
       "      <td>0.3128</td>\n",
       "    </tr>\n",
       "    <tr>\n",
       "      <th>4</th>\n",
       "      <td>0005d95e4aed74b84826f6090fcc8e52bceb5cb3.mid</td>\n",
       "      <td>Strategy</td>\n",
       "      <td>0.1316</td>\n",
       "      <td>0.2368</td>\n",
       "      <td>0.6000</td>\n",
       "      <td>0.7037</td>\n",
       "      <td>5.0</td>\n",
       "      <td>7.0</td>\n",
       "      <td>1.0</td>\n",
       "      <td>20.0</td>\n",
       "      <td>...</td>\n",
       "      <td>0.6522</td>\n",
       "      <td>0.0</td>\n",
       "      <td>0.2609</td>\n",
       "      <td>0.08696</td>\n",
       "      <td>0.0</td>\n",
       "      <td>0.0</td>\n",
       "      <td>47.0</td>\n",
       "      <td>19.18</td>\n",
       "      <td>0.8643</td>\n",
       "      <td>0.3128</td>\n",
       "    </tr>\n",
       "  </tbody>\n",
       "</table>\n",
       "<p>5 rows × 158 columns</p>\n",
       "</div>"
      ],
      "text/plain": [
       "                                      file_name      genre  \\\n",
       "0  0004cc74bde3bc82f44afb5f566187c3dbcea9b2.mid   Platform   \n",
       "1  0005d95e4aed74b84826f6090fcc8e52bceb5cb3.mid     Action   \n",
       "2  0005d95e4aed74b84826f6090fcc8e52bceb5cb3.mid  Adventure   \n",
       "3  0005d95e4aed74b84826f6090fcc8e52bceb5cb3.mid     Sports   \n",
       "4  0005d95e4aed74b84826f6090fcc8e52bceb5cb3.mid   Strategy   \n",
       "\n",
       "   Prevalence_of_Most_Common_Pitch  Prevalence_of_Most_Common_Pitch_Class  \\\n",
       "0                           0.1593                                 0.2242   \n",
       "1                           0.1316                                 0.2368   \n",
       "2                           0.1316                                 0.2368   \n",
       "3                           0.1316                                 0.2368   \n",
       "4                           0.1316                                 0.2368   \n",
       "\n",
       "   Relative_Prevalence_of_Top_Pitches  \\\n",
       "0                              0.7222   \n",
       "1                              0.6000   \n",
       "2                              0.6000   \n",
       "3                              0.6000   \n",
       "4                              0.6000   \n",
       "\n",
       "   Relative_Prevalence_of_Top_Pitch_Classes  \\\n",
       "0                                    0.7500   \n",
       "1                                    0.7037   \n",
       "2                                    0.7037   \n",
       "3                                    0.7037   \n",
       "4                                    0.7037   \n",
       "\n",
       "   Interval_Between_Most_Prevalent_Pitches  \\\n",
       "0                                      5.0   \n",
       "1                                      5.0   \n",
       "2                                      5.0   \n",
       "3                                      5.0   \n",
       "4                                      5.0   \n",
       "\n",
       "   Interval_Between_Most_Prevalent_Pitch_Classes  Number_of_Common_Pitches  \\\n",
       "0                                            5.0                       2.0   \n",
       "1                                            7.0                       1.0   \n",
       "2                                            7.0                       1.0   \n",
       "3                                            7.0                       1.0   \n",
       "4                                            7.0                       1.0   \n",
       "\n",
       "   Pitch_Variety                   ...                     Parallel_Motion  \\\n",
       "0           28.0                   ...                              0.0000   \n",
       "1           20.0                   ...                              0.6522   \n",
       "2           20.0                   ...                              0.6522   \n",
       "3           20.0                   ...                              0.6522   \n",
       "4           20.0                   ...                              0.6522   \n",
       "\n",
       "   Similar_Motion  Contrary_Motion  Oblique_Motion  Parallel_Fifths  \\\n",
       "0             0.0           0.0000         0.00000              0.0   \n",
       "1             0.0           0.2609         0.08696              0.0   \n",
       "2             0.0           0.2609         0.08696              0.0   \n",
       "3             0.0           0.2609         0.08696              0.0   \n",
       "4             0.0           0.2609         0.08696              0.0   \n",
       "\n",
       "   Parallel_Octaves  Dynamic_Range  Variation_of_Dynamics  \\\n",
       "0               0.0           63.0                  17.65   \n",
       "1               0.0           47.0                  19.18   \n",
       "2               0.0           47.0                  19.18   \n",
       "3               0.0           47.0                  19.18   \n",
       "4               0.0           47.0                  19.18   \n",
       "\n",
       "   Variation_of_Dynamics_In_Each_Voice  \\\n",
       "0                               6.3240   \n",
       "1                               0.8643   \n",
       "2                               0.8643   \n",
       "3                               0.8643   \n",
       "4                               0.8643   \n",
       "\n",
       "   Average_Note_to_Note_Change_in_Dynamics  \n",
       "0                                  13.7800  \n",
       "1                                   0.3128  \n",
       "2                                   0.3128  \n",
       "3                                   0.3128  \n",
       "4                                   0.3128  \n",
       "\n",
       "[5 rows x 158 columns]"
      ]
     },
     "execution_count": 5,
     "metadata": {},
     "output_type": "execute_result"
    }
   ],
   "source": [
    "df_pred = df_genres.join(df_features, how='inner').reset_index()\n",
    "df_pred = df_pred.replace([np.inf, -np.inf], np.nan).dropna()\n",
    "df_pred.head()"
   ]
  },
  {
   "cell_type": "markdown",
   "metadata": {},
   "source": [
    "To simplify this first analysis, only the five categories which are more represented in the dataset will be considered for this analysis. These are Action, Role-Playing, Platform, Adventure, and Shooter."
   ]
  },
  {
   "cell_type": "code",
   "execution_count": 6,
   "metadata": {},
   "outputs": [
    {
     "name": "stdout",
     "output_type": "stream",
     "text": [
      "For this first analysis, 5 genres entailing 27010 MIDIs will be considered.\n"
     ]
    }
   ],
   "source": [
    "df_pred = df_pred[(df_pred['genre'] == 'Action') | (df_pred['genre'] == 'Role-Playing') | (df_pred['genre'] == 'Platform') | (df_pred['genre'] == 'Adventure') | (df_pred['genre'] == 'Shooter')]\n",
    "print(\"For this first analysis, 5 genres entailing \" + str(df_pred.shape[0]) + \" MIDIs will be considered.\")"
   ]
  },
  {
   "cell_type": "markdown",
   "metadata": {},
   "source": [
    "The dataset is divided into features and labels - X and y respectively - for the purpose of the classification task. The labels Y are mapped to integers to comply with the requirements of certain Machine Learning models such as linear regression."
   ]
  },
  {
   "cell_type": "code",
   "execution_count": 8,
   "metadata": {},
   "outputs": [],
   "source": [
    "X = df_pred.iloc[:, 2:]\n",
    "y, y_string = pd.factorize(df_pred['genre'])"
   ]
  },
  {
   "cell_type": "markdown",
   "metadata": {},
   "source": [
    "The dataset is split into training and testing sets with a 8-2 ratio, which seems very reasonable considering the size of the dataset."
   ]
  },
  {
   "cell_type": "code",
   "execution_count": 9,
   "metadata": {},
   "outputs": [
    {
     "name": "stdout",
     "output_type": "stream",
     "text": [
      "21608 MIDIs are used for training, 5402 are used for testing.\n"
     ]
    }
   ],
   "source": [
    "X_train, X_test, y_train, y_test = train_test_split(X, y, test_size=0.2, shuffle = True, random_state=42)\n",
    "print(str(X_train.shape[0]) + \" MIDIs are used for training, \" + str(X_test.shape[0]) + \" are used for testing.\")"
   ]
  },
  {
   "cell_type": "markdown",
   "metadata": {},
   "source": [
    "# Models Evaluation"
   ]
  },
  {
   "cell_type": "markdown",
   "metadata": {},
   "source": [
    "In this section various Machine Learning classification models are used with the goal of identifying the one who best fits the task. The models take as input the whole set of features and perform the classification task."
   ]
  },
  {
   "cell_type": "markdown",
   "metadata": {},
   "source": [
    "As a first approach, a simple linear classifier is used."
   ]
  },
  {
   "cell_type": "code",
   "execution_count": 9,
   "metadata": {},
   "outputs": [
    {
     "name": "stdout",
     "output_type": "stream",
     "text": [
      "the Linear Regression classifier yields a score of 0.04334847397196817\n"
     ]
    }
   ],
   "source": [
    "lrc = LinearRegression()\n",
    "lrc.fit(X_train, y_train)\n",
    "score = lrc.score(X_test, y_test)\n",
    "print(\"the Linear Regression classifier yields a score of \" + str(score))"
   ]
  },
  {
   "cell_type": "markdown",
   "metadata": {},
   "source": [
    "Since this linear model performs poorly for the given task, the more robust Random Forest and AdaBoost classifier (with decision trees as weak learners) are used. The parameters are chosen in order to make full use of the model without overloading it."
   ]
  },
  {
   "cell_type": "code",
   "execution_count": 10,
   "metadata": {},
   "outputs": [
    {
     "name": "stdout",
     "output_type": "stream",
     "text": [
      "The Random Forest classifier yields a score of 0.299333580155498\n"
     ]
    }
   ],
   "source": [
    "rfc = RandomForestClassifier(n_estimators=100, max_features = None, max_depth = 10, random_state = 1)\n",
    "rfc.fit(X_train, y_train)\n",
    "score = rfc.score(X_test, y_test)\n",
    "print(\"The Random Forest classifier yields a score of \" + str(score))"
   ]
  },
  {
   "cell_type": "code",
   "execution_count": 12,
   "metadata": {},
   "outputs": [
    {
     "name": "stdout",
     "output_type": "stream",
     "text": [
      "The Ada Boost classifier yields a score of 0.3493150684931507\n"
     ]
    }
   ],
   "source": [
    "abc = AdaBoostClassifier()\n",
    "abc.fit(X_train, y_train)\n",
    "score = abc.score(X_test, y_test)\n",
    "print(\"The Ada Boost classifier yields a score of \" + str(score))"
   ]
  },
  {
   "cell_type": "markdown",
   "metadata": {},
   "source": [
    "Event though the accuracy of the classification improved drastically by using these powerful ensemble methods, the result is still disappointing."
   ]
  },
  {
   "cell_type": "markdown",
   "metadata": {},
   "source": [
    "The bad performance of the previous models could be a sign that the data is not linearly separable. It is therefore worth trying to use a kernel. \n",
    "\n",
    "A kernelized Support Vectore Machine (SVM) model using the rbf kernel is therefore used. "
   ]
  },
  {
   "cell_type": "code",
   "execution_count": 13,
   "metadata": {},
   "outputs": [
    {
     "name": "stdout",
     "output_type": "stream",
     "text": [
      "The kernelized SVC classifier yields a score of 0.14124398370973715\n"
     ]
    }
   ],
   "source": [
    "clf = SVC(kernel = 'rbf', gamma=1)\n",
    "clf.fit(X_train, y_train) \n",
    "score = clf.score(X_test, y_test)\n",
    "print(\"The kernelized SVC classifier yields a score of \" + str(score))"
   ]
  },
  {
   "cell_type": "markdown",
   "metadata": {},
   "source": [
    "The drop in performance compared to the ensemble methods make us think that the problem lies not in the models but in the features themselves."
   ]
  },
  {
   "cell_type": "markdown",
   "metadata": {},
   "source": [
    "Let's try applying PCA to the features to see what happens."
   ]
  },
  {
   "cell_type": "code",
   "execution_count": 17,
   "metadata": {},
   "outputs": [
    {
     "data": {
      "text/plain": [
       "array([0.74252231, 0.12781416, 0.0402669 ])"
      ]
     },
     "execution_count": 17,
     "metadata": {},
     "output_type": "execute_result"
    }
   ],
   "source": [
    "pca = PCA(n_components=3)\n",
    "pca.fit(X)\n",
    "pca.explained_variance_ratio_"
   ]
  },
  {
   "cell_type": "markdown",
   "metadata": {},
   "source": [
    "The answer is very informative: the 1st principal component accounts for 75% of the variance in the dataset and the three first components account for 90%. This intuitevely means that the information relevant for the classification task tends to be centered towards determinate features, as opposed to being spread evenly in the dataset.\n",
    "\n",
    "The next step is trying to identify these relevant features."
   ]
  },
  {
   "cell_type": "code",
   "execution_count": 13,
   "metadata": {},
   "outputs": [
    {
     "name": "stdout",
     "output_type": "stream",
     "text": [
      "0.37370418363569047\n"
     ]
    },
    {
     "data": {
      "text/plain": [
       "0.35690485005553496"
      ]
     },
     "execution_count": 13,
     "metadata": {},
     "output_type": "execute_result"
    }
   ],
   "source": [
    "scaler = StandardScaler()\n",
    "X_train = scaler.fit_transform(X_train)\n",
    "X_test = scaler.transform(X_test)\n",
    "\n",
    "clf = LogisticRegression(solver='lbfgs', multi_class=\"multinomial\", penalty=\"l2\")\n",
    "clf.fit(X_train, y_train)\n",
    "print(clf.score(X_train, y_train))\n",
    "clf.score(X_test, y_test)"
   ]
  },
  {
   "cell_type": "code",
   "execution_count": 14,
   "metadata": {},
   "outputs": [
    {
     "name": "stdout",
     "output_type": "stream",
     "text": [
      "For class Platform, best features:\n",
      "  - Average_Rest_Fraction_Per_Voice\n",
      "  - Partial_Chords\n",
      "  - Variability_of_Note_Durations\n",
      "  - Amount_of_Arpeggiation\n",
      "  - String_Ensemble_Prevalence\n",
      "  - Note_Density\n",
      "  - Rhythmic_Variability\n",
      "  - Average_Number_of_Simultaneous_Pitch_Classes\n",
      "  - Voice_Equality_-_Note_Duration\n",
      "  - Variability_Across_Voices_of_Total_Rests_Per_Voice\n",
      "For class Action, best features:\n",
      "  - Number_of_Relatively_Strong_Rhythmic_Pulses\n",
      "  - Repeated_Notes\n",
      "  - Standard_Triads\n",
      "  - Amount_of_Arpeggiation\n",
      "  - Variability_Across_Voices_of_Total_Rests_Per_Voice\n",
      "  - Note_Density\n",
      "  - Number_of_Pitched_Instruments\n",
      "  - Rhythmic_Variability\n",
      "  - Stepwise_Motion\n",
      "  - Voice_Equality_-_Note_Duration\n",
      "For class Adventure, best features:\n",
      "  - Melodic_Perfect_Fifths\n",
      "  - Importance_of_High_Register\n",
      "  - Prevalence_of_Most_Common_Melodic_Interval\n",
      "  - Stepwise_Motion\n",
      "  - Complex_Chords\n",
      "  - Variability_of_Number_of_Simultaneous_Pitch_Classes\n",
      "  - Mean_Pitch\n",
      "  - Average_Number_of_Simultaneous_Pitch_Classes\n",
      "  - Amount_of_Arpeggiation\n",
      "  - Mean_Melodic_Interval\n",
      "For class Role-Playing, best features:\n",
      "  - Voice_Equality_-_Number_of_Notes\n",
      "  - String_Ensemble_Prevalence\n",
      "  - Mean_Melodic_Interval\n",
      "  - Woodwinds_Prevalence\n",
      "  - Variability_Across_Voices_of_Total_Rests_Per_Voice\n",
      "  - Stepwise_Motion\n",
      "  - Note_Density\n",
      "  - Average_Note_Duration\n",
      "  - Amount_of_Arpeggiation\n",
      "  - Variability_of_Note_Durations\n",
      "For class Shooter, best features:\n",
      "  - Repeated_Notes\n",
      "  - Prevalence_of_Second_Most_Common_Vertical_Interval\n",
      "  - Vertical_Sixths\n",
      "  - Amount_of_Arpeggiation\n",
      "  - Voice_Equality_-_Note_Duration\n",
      "  - Variability_Across_Voices_of_Total_Rests_Per_Voice\n",
      "  - Mean_Melodic_Interval\n",
      "  - Woodwinds_Prevalence\n",
      "  - Partial_Chords\n",
      "  - Average_Number_of_Simultaneous_Pitch_Classes\n"
     ]
    }
   ],
   "source": [
    "best_features = np.take(df_pred.columns[2:], np.abs(clf.coef_).argsort()[:,-10:])\n",
    "for i in range(len(y_string)):\n",
    "    print(\"For class %s, best features:\"%y_string[i])\n",
    "    for feature in best_features[i]:\n",
    "        print(\"  -\", feature)"
   ]
  },
  {
   "cell_type": "code",
   "execution_count": 19,
   "metadata": {},
   "outputs": [
    {
     "data": {
      "image/png": "[encoded data removed]",
      "text/plain": [
       "<Figure size 720x504 with 2 Axes>"
      ]
     },
     "metadata": {},
     "output_type": "display_data"
    }
   ],
   "source": [
    "arr = confusion_matrix(clf.predict(X_test), y_test)\n",
    "df_cm = pd.DataFrame(arr, index = [i for i in y_string],\n",
    "                  columns = [i for i in y_string])\n",
    "plt.figure(figsize = (10,7))\n",
    "plt.xlabel(\"Predicted class\")\n",
    "plt.ylabel(\"Actual class\")\n",
    "sns.heatmap(df_cm, annot=True, cmap='Blues', fmt='g')\n",
    "plt.show()"
   ]
  }
 ],
 "metadata": {
  "kernelspec": {
   "display_name": "Python [default]",
   "language": "python",
   "name": "python3"
  },
  "language_info": {
   "codemirror_mode": {
    "name": "ipython",
    "version": 3
   },
   "file_extension": ".py",
   "mimetype": "text/x-python",
   "name": "python",
   "nbconvert_exporter": "python",
   "pygments_lexer": "ipython3",
   "version": "3.5.3"
  }
 },
 "nbformat": 4,
 "nbformat_minor": 2
}
