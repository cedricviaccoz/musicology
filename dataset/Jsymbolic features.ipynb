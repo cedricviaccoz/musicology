{
 "cells": [
  {
   "cell_type": "markdown",
   "metadata": {},
   "source": [
    "# Game Music dataset: genre classification"
   ]
  },
  {
   "cell_type": "code",
   "execution_count": 1,
   "metadata": {
    "collapsed": true
   },
   "outputs": [],
   "source": [
    "import warnings\n",
    "warnings.filterwarnings('ignore')"
   ]
  },
  {
   "cell_type": "code",
   "execution_count": 2,
   "metadata": {
    "collapsed": true
   },
   "outputs": [],
   "source": [
    "import pandas as pd\n",
    "from ast import literal_eval\n",
    "import os\n",
    "import seaborn as sns\n",
    "import numpy as np\n",
    "from sklearn.ensemble import RandomForestClassifier, AdaBoostClassifier\n",
    "from sklearn.linear_model import LinearRegression, LogisticRegression\n",
    "from sklearn.model_selection import train_test_split\n",
    "from sklearn.svm import SVC\n",
    "from sklearn.decomposition import PCA\n",
    "from sklearn.preprocessing import StandardScaler \n",
    "from sklearn.metrics import confusion_matrix\n",
    "import matplotlib.pyplot as plt\n",
    "\n",
    "df = pd.read_csv('midi_dataframe.csv', parse_dates=[11])\n",
    "# Cleaning\n",
    "df.drop_duplicates(subset='file_name', inplace=True)\n",
    "df.dropna(subset=['tgdb_genres'], inplace=True)\n",
    "categories_filter = df.console.isin(['Medleys', 'Piano Only'])\n",
    "remix_filter = df.title.str.contains('[Rr]emix')\n",
    "\n",
    "df = df[~categories_filter & ~remix_filter]\n",
    "df_stripped = df.copy()\n",
    "df_stripped.title = df.title.str.replace('\\(\\d+\\)', '').str.rstrip()\n",
    "df_stripped['rank'] = df.title.str.extract('\\((\\d+)\\)', expand=False)\n",
    "df = df_stripped.sort_values(by='rank', ascending=False).groupby(['brand', 'console', 'game', 'title']).first().reset_index()\n",
    "df.set_index('file_name', inplace=True)"
   ]
  },
  {
   "cell_type": "code",
   "execution_count": 3,
   "metadata": {},
   "outputs": [
    {
     "name": "stdout",
     "output_type": "stream",
     "text": [
      "There is 22179 midi files, from 3243 games, with 22179 midis matched with tgdb\n",
      "There is 31483 midi files with computed features\n",
      "After removing not valid midi files, we have 22005 files\n"
     ]
    }
   ],
   "source": [
    "num_games = len(df.groupby(['tgdb_platform', 'tgdb_gametitle']))\n",
    "print('There is %d midi files, from %d games, with %d midis matched with tgdb'\n",
    "      %(len(df),\n",
    "        num_games,\n",
    "        (df.tgdb_gametitle.notnull().sum())))\n",
    "df_features = pd.read_csv('features.csv').set_index('file_name')\n",
    "print(\"There is %d midi files with computed features\"%(len(df_features)))\n",
    "\n",
    "print(\"After removing not valid midi files, we have %d files\"%(len(df.join(df_features, how='inner'))))"
   ]
  },
  {
   "cell_type": "code",
   "execution_count": 4,
   "metadata": {
    "collapsed": true
   },
   "outputs": [],
   "source": [
    "#df = pd.read_csv('midi_dataframe_cleaned.csv', parse_dates=[11])\n",
    "#df.set_index('file_name', inplace=True)\n",
    "df_genres = df.tgdb_genres.map(literal_eval, 'ignore').apply(pd.Series).stack().reset_index(level=1, drop=True).reset_index().set_index('file_name')\n",
    "df_genres.columns = ['genre']"
   ]
  },
  {
   "cell_type": "markdown",
   "metadata": {},
   "source": [
    "# Problem statement"
   ]
  },
  {
   "cell_type": "markdown",
   "metadata": {},
   "source": [
    "By joining the game music dataframe with the features dataset produced by JSimbolic, the final dataset to be used for the classification task is obtained.\n",
    "\n",
    "This dataset provides 156 musical feature for each valid midi. "
   ]
  },
  {
   "cell_type": "code",
   "execution_count": 5,
   "metadata": {},
   "outputs": [
    {
     "data": {
      "text/html": [
       "<div>\n",
       "<style scoped>\n",
       "    .dataframe tbody tr th:only-of-type {\n",
       "        vertical-align: middle;\n",
       "    }\n",
       "\n",
       "    .dataframe tbody tr th {\n",
       "        vertical-align: top;\n",
       "    }\n",
       "\n",
       "    .dataframe thead th {\n",
       "        text-align: right;\n",
       "    }\n",
       "</style>\n",
       "<table border=\"1\" class=\"dataframe\">\n",
       "  <thead>\n",
       "    <tr style=\"text-align: right;\">\n",
       "      <th></th>\n",
       "      <th>file_name</th>\n",
       "      <th>genre</th>\n",
       "      <th>Prevalence_of_Most_Common_Pitch</th>\n",
       "      <th>Prevalence_of_Most_Common_Pitch_Class</th>\n",
       "      <th>Relative_Prevalence_of_Top_Pitches</th>\n",
       "      <th>Relative_Prevalence_of_Top_Pitch_Classes</th>\n",
       "      <th>Interval_Between_Most_Prevalent_Pitches</th>\n",
       "      <th>Interval_Between_Most_Prevalent_Pitch_Classes</th>\n",
       "      <th>Number_of_Common_Pitches</th>\n",
       "      <th>Pitch_Variety</th>\n",
       "      <th>...</th>\n",
       "      <th>Parallel_Motion</th>\n",
       "      <th>Similar_Motion</th>\n",
       "      <th>Contrary_Motion</th>\n",
       "      <th>Oblique_Motion</th>\n",
       "      <th>Parallel_Fifths</th>\n",
       "      <th>Parallel_Octaves</th>\n",
       "      <th>Dynamic_Range</th>\n",
       "      <th>Variation_of_Dynamics</th>\n",
       "      <th>Variation_of_Dynamics_In_Each_Voice</th>\n",
       "      <th>Average_Note_to_Note_Change_in_Dynamics</th>\n",
       "    </tr>\n",
       "  </thead>\n",
       "  <tbody>\n",
       "    <tr>\n",
       "      <th>0</th>\n",
       "      <td>0004cc74bde3bc82f44afb5f566187c3dbcea9b2.mid</td>\n",
       "      <td>Platform</td>\n",
       "      <td>0.1593</td>\n",
       "      <td>0.2242</td>\n",
       "      <td>0.7222</td>\n",
       "      <td>0.7500</td>\n",
       "      <td>5.0</td>\n",
       "      <td>5.0</td>\n",
       "      <td>2.0</td>\n",
       "      <td>28.0</td>\n",
       "      <td>...</td>\n",
       "      <td>0.0000</td>\n",
       "      <td>0.0</td>\n",
       "      <td>0.0000</td>\n",
       "      <td>0.00000</td>\n",
       "      <td>0.0</td>\n",
       "      <td>0.0</td>\n",
       "      <td>63.0</td>\n",
       "      <td>17.65</td>\n",
       "      <td>6.3240</td>\n",
       "      <td>13.7800</td>\n",
       "    </tr>\n",
       "    <tr>\n",
       "      <th>1</th>\n",
       "      <td>0005d95e4aed74b84826f6090fcc8e52bceb5cb3.mid</td>\n",
       "      <td>Action</td>\n",
       "      <td>0.1316</td>\n",
       "      <td>0.2368</td>\n",
       "      <td>0.6000</td>\n",
       "      <td>0.7037</td>\n",
       "      <td>5.0</td>\n",
       "      <td>7.0</td>\n",
       "      <td>1.0</td>\n",
       "      <td>20.0</td>\n",
       "      <td>...</td>\n",
       "      <td>0.6522</td>\n",
       "      <td>0.0</td>\n",
       "      <td>0.2609</td>\n",
       "      <td>0.08696</td>\n",
       "      <td>0.0</td>\n",
       "      <td>0.0</td>\n",
       "      <td>47.0</td>\n",
       "      <td>19.18</td>\n",
       "      <td>0.8643</td>\n",
       "      <td>0.3128</td>\n",
       "    </tr>\n",
       "    <tr>\n",
       "      <th>2</th>\n",
       "      <td>0005d95e4aed74b84826f6090fcc8e52bceb5cb3.mid</td>\n",
       "      <td>Adventure</td>\n",
       "      <td>0.1316</td>\n",
       "      <td>0.2368</td>\n",
       "      <td>0.6000</td>\n",
       "      <td>0.7037</td>\n",
       "      <td>5.0</td>\n",
       "      <td>7.0</td>\n",
       "      <td>1.0</td>\n",
       "      <td>20.0</td>\n",
       "      <td>...</td>\n",
       "      <td>0.6522</td>\n",
       "      <td>0.0</td>\n",
       "      <td>0.2609</td>\n",
       "      <td>0.08696</td>\n",
       "      <td>0.0</td>\n",
       "      <td>0.0</td>\n",
       "      <td>47.0</td>\n",
       "      <td>19.18</td>\n",
       "      <td>0.8643</td>\n",
       "      <td>0.3128</td>\n",
       "    </tr>\n",
       "    <tr>\n",
       "      <th>3</th>\n",
       "      <td>0005d95e4aed74b84826f6090fcc8e52bceb5cb3.mid</td>\n",
       "      <td>Sports</td>\n",
       "      <td>0.1316</td>\n",
       "      <td>0.2368</td>\n",
       "      <td>0.6000</td>\n",
       "      <td>0.7037</td>\n",
       "      <td>5.0</td>\n",
       "      <td>7.0</td>\n",
       "      <td>1.0</td>\n",
       "      <td>20.0</td>\n",
       "      <td>...</td>\n",
       "      <td>0.6522</td>\n",
       "      <td>0.0</td>\n",
       "      <td>0.2609</td>\n",
       "      <td>0.08696</td>\n",
       "      <td>0.0</td>\n",
       "      <td>0.0</td>\n",
       "      <td>47.0</td>\n",
       "      <td>19.18</td>\n",
       "      <td>0.8643</td>\n",
       "      <td>0.3128</td>\n",
       "    </tr>\n",
       "    <tr>\n",
       "      <th>4</th>\n",
       "      <td>0005d95e4aed74b84826f6090fcc8e52bceb5cb3.mid</td>\n",
       "      <td>Strategy</td>\n",
       "      <td>0.1316</td>\n",
       "      <td>0.2368</td>\n",
       "      <td>0.6000</td>\n",
       "      <td>0.7037</td>\n",
       "      <td>5.0</td>\n",
       "      <td>7.0</td>\n",
       "      <td>1.0</td>\n",
       "      <td>20.0</td>\n",
       "      <td>...</td>\n",
       "      <td>0.6522</td>\n",
       "      <td>0.0</td>\n",
       "      <td>0.2609</td>\n",
       "      <td>0.08696</td>\n",
       "      <td>0.0</td>\n",
       "      <td>0.0</td>\n",
       "      <td>47.0</td>\n",
       "      <td>19.18</td>\n",
       "      <td>0.8643</td>\n",
       "      <td>0.3128</td>\n",
       "    </tr>\n",
       "  </tbody>\n",
       "</table>\n",
       "<p>5 rows × 158 columns</p>\n",
       "</div>"
      ],
      "text/plain": [
       "                                      file_name      genre  \\\n",
       "0  0004cc74bde3bc82f44afb5f566187c3dbcea9b2.mid   Platform   \n",
       "1  0005d95e4aed74b84826f6090fcc8e52bceb5cb3.mid     Action   \n",
       "2  0005d95e4aed74b84826f6090fcc8e52bceb5cb3.mid  Adventure   \n",
       "3  0005d95e4aed74b84826f6090fcc8e52bceb5cb3.mid     Sports   \n",
       "4  0005d95e4aed74b84826f6090fcc8e52bceb5cb3.mid   Strategy   \n",
       "\n",
       "   Prevalence_of_Most_Common_Pitch  Prevalence_of_Most_Common_Pitch_Class  \\\n",
       "0                           0.1593                                 0.2242   \n",
       "1                           0.1316                                 0.2368   \n",
       "2                           0.1316                                 0.2368   \n",
       "3                           0.1316                                 0.2368   \n",
       "4                           0.1316                                 0.2368   \n",
       "\n",
       "   Relative_Prevalence_of_Top_Pitches  \\\n",
       "0                              0.7222   \n",
       "1                              0.6000   \n",
       "2                              0.6000   \n",
       "3                              0.6000   \n",
       "4                              0.6000   \n",
       "\n",
       "   Relative_Prevalence_of_Top_Pitch_Classes  \\\n",
       "0                                    0.7500   \n",
       "1                                    0.7037   \n",
       "2                                    0.7037   \n",
       "3                                    0.7037   \n",
       "4                                    0.7037   \n",
       "\n",
       "   Interval_Between_Most_Prevalent_Pitches  \\\n",
       "0                                      5.0   \n",
       "1                                      5.0   \n",
       "2                                      5.0   \n",
       "3                                      5.0   \n",
       "4                                      5.0   \n",
       "\n",
       "   Interval_Between_Most_Prevalent_Pitch_Classes  Number_of_Common_Pitches  \\\n",
       "0                                            5.0                       2.0   \n",
       "1                                            7.0                       1.0   \n",
       "2                                            7.0                       1.0   \n",
       "3                                            7.0                       1.0   \n",
       "4                                            7.0                       1.0   \n",
       "\n",
       "   Pitch_Variety                   ...                     Parallel_Motion  \\\n",
       "0           28.0                   ...                              0.0000   \n",
       "1           20.0                   ...                              0.6522   \n",
       "2           20.0                   ...                              0.6522   \n",
       "3           20.0                   ...                              0.6522   \n",
       "4           20.0                   ...                              0.6522   \n",
       "\n",
       "   Similar_Motion  Contrary_Motion  Oblique_Motion  Parallel_Fifths  \\\n",
       "0             0.0           0.0000         0.00000              0.0   \n",
       "1             0.0           0.2609         0.08696              0.0   \n",
       "2             0.0           0.2609         0.08696              0.0   \n",
       "3             0.0           0.2609         0.08696              0.0   \n",
       "4             0.0           0.2609         0.08696              0.0   \n",
       "\n",
       "   Parallel_Octaves  Dynamic_Range  Variation_of_Dynamics  \\\n",
       "0               0.0           63.0                  17.65   \n",
       "1               0.0           47.0                  19.18   \n",
       "2               0.0           47.0                  19.18   \n",
       "3               0.0           47.0                  19.18   \n",
       "4               0.0           47.0                  19.18   \n",
       "\n",
       "   Variation_of_Dynamics_In_Each_Voice  \\\n",
       "0                               6.3240   \n",
       "1                               0.8643   \n",
       "2                               0.8643   \n",
       "3                               0.8643   \n",
       "4                               0.8643   \n",
       "\n",
       "   Average_Note_to_Note_Change_in_Dynamics  \n",
       "0                                  13.7800  \n",
       "1                                   0.3128  \n",
       "2                                   0.3128  \n",
       "3                                   0.3128  \n",
       "4                                   0.3128  \n",
       "\n",
       "[5 rows x 158 columns]"
      ]
     },
     "execution_count": 5,
     "metadata": {},
     "output_type": "execute_result"
    }
   ],
   "source": [
    "df_pred = df_genres.join(df_features, how='inner').reset_index()\n",
    "df_pred = df_pred.replace([np.inf, -np.inf], np.nan).dropna()\n",
    "df_pred.head()"
   ]
  },
  {
   "cell_type": "markdown",
   "metadata": {},
   "source": [
    "To simplify this first analysis, only the five categories which are more represented in the dataset will be considered. \n",
    "\n",
    "These are Action, Role-Playing, Platform, Adventure, and Shooter."
   ]
  },
  {
   "cell_type": "code",
   "execution_count": 6,
   "metadata": {},
   "outputs": [
    {
     "name": "stdout",
     "output_type": "stream",
     "text": [
      "For this first analysis, 5 genres entailing 18569 MIDIs will be considered.\n"
     ]
    }
   ],
   "source": [
    "df_pred = df_pred[(df_pred['genre'] == 'Action') | (df_pred['genre'] == 'Role-Playing') | (df_pred['genre'] == 'Platform') | (df_pred['genre'] == 'Adventure') | (df_pred['genre'] == 'Shooter')]\n",
    "print(\"For this first analysis, 5 genres entailing \" + str(df_pred.shape[0]) + \" MIDIs will be considered.\")"
   ]
  },
  {
   "cell_type": "markdown",
   "metadata": {},
   "source": [
    "The dataset is divided into features and labels - X and y respectively - for the purpose of the classification task. The labels Y are mapped to integers to comply with the requirements of certain Machine Learning models such as linear regression."
   ]
  },
  {
   "cell_type": "code",
   "execution_count": 7,
   "metadata": {
    "collapsed": true
   },
   "outputs": [],
   "source": [
    "X = df_pred.iloc[:, 2:]\n",
    "y, y_string = pd.factorize(df_pred['genre'])"
   ]
  },
  {
   "cell_type": "markdown",
   "metadata": {},
   "source": [
    "The dataset is split into training and testing sets with a 8-2 ratio, which seems very reasonable considering the size of the dataset."
   ]
  },
  {
   "cell_type": "code",
   "execution_count": 8,
   "metadata": {},
   "outputs": [
    {
     "name": "stdout",
     "output_type": "stream",
     "text": [
      "14855 MIDIs are used for training, 3714 are used for testing.\n"
     ]
    }
   ],
   "source": [
    "X_train, X_test, y_train, y_test = train_test_split(X, y, test_size=0.2, shuffle = True, random_state=42)\n",
    "print(str(X_train.shape[0]) + \" MIDIs are used for training, \" + str(X_test.shape[0]) + \" are used for testing.\")"
   ]
  },
  {
   "cell_type": "markdown",
   "metadata": {},
   "source": [
    "# Models Evaluation"
   ]
  },
  {
   "cell_type": "markdown",
   "metadata": {},
   "source": [
    "In this section various Machine Learning classification models are used with the goal of identifying the one who best fits the task. The models take as input the whole set of features and perform the classification task."
   ]
  },
  {
   "cell_type": "markdown",
   "metadata": {},
   "source": [
    "As a first approach, a logistic classifier is used."
   ]
  },
  {
   "cell_type": "code",
   "execution_count": 9,
   "metadata": {},
   "outputs": [
    {
     "name": "stdout",
     "output_type": "stream",
     "text": [
      "0.44368899360484687\n",
      "The Logistic Regression classifier yields a score of 0.43134087237479807\n"
     ]
    }
   ],
   "source": [
    "scaler = StandardScaler()\n",
    "X_train = scaler.fit_transform(X_train)\n",
    "X_test = scaler.transform(X_test)\n",
    "\n",
    "clf = LogisticRegression(solver='lbfgs', multi_class=\"multinomial\", penalty=\"l2\")\n",
    "clf.fit(X_train, y_train)\n",
    "\n",
    "train_score = clf.score(X_train, y_train)\n",
    "test_score = clf.score(X_test, y_test)\n",
    "\n",
    "print(\"The Logistic Regression classifier yields a score of \" + str(train_score) + \"on the training test \" +\n",
    "      \" and of \" + str(test_score) + \" on the testing set\")"
   ]
  },
  {
   "cell_type": "markdown",
   "metadata": {},
   "source": [
    "Since this linear model performs poorly for the given task, the more robust Random Forest and AdaBoost classifier (with decision trees as weak learners) are used. The parameters are chosen in order to make full use of the model without overloading it."
   ]
  },
  {
   "cell_type": "code",
   "execution_count": 19,
   "metadata": {},
   "outputs": [
    {
     "name": "stdout",
     "output_type": "stream",
     "text": [
      "The Random Forest classifier yields a score of 0.7184786267250084on the training test  and of 0.39229940764674204 on the testing set\n"
     ]
    }
   ],
   "source": [
    "rfc = RandomForestClassifier(n_estimators=100, max_features = None, max_depth = 10, random_state = 1)\n",
    "rfc.fit(X_train, y_train)\n",
    "\n",
    "train_score = rfc.score(X_train, y_train)\n",
    "test_score = rfc.score(X_test, y_test)\n",
    "\n",
    "print(\"The Random Forest classifier yields a score of \" + str(train_score) + \"on the training test \" +\n",
    "      \" and of \" + str(test_score) + \" on the testing set\")"
   ]
  },
  {
   "cell_type": "code",
   "execution_count": 11,
   "metadata": {},
   "outputs": [
    {
     "name": "stdout",
     "output_type": "stream",
     "text": [
      "The Ada Boost classifier yields a score of 0.4159935379644588\n"
     ]
    }
   ],
   "source": [
    "abc = AdaBoostClassifier()\n",
    "abc.fit(X_train, y_train)\n",
    "score = abc.score(X_test, y_test)\n",
    "\n",
    "train_score = rfc.score(X_train, y_train)\n",
    "test_score = rfc.score(X_test, y_test)\n",
    "\n",
    "print(\"The Ada Boost classifier yields a score of \" + str(train_score) + \"on the training test \" +\n",
    "      \" and of \" + str(test_score) + \" on the testing set\")"
   ]
  },
  {
   "cell_type": "markdown",
   "metadata": {},
   "source": [
    "The accuracy of the classification didn't improve even by using these powerful ensemble methods."
   ]
  },
  {
   "cell_type": "markdown",
   "metadata": {},
   "source": [
    "These poor perfomance must be explained either by the data or by the models.\n",
    "\n",
    "The failure of both linear and ensemble methods in delivering a satisfying result leads to investigate the data."
   ]
  },
  {
   "cell_type": "markdown",
   "metadata": {},
   "source": [
    "One valid hypothesis is that the data isn't linearly separable. If this were the case, then using a kernel could prove useful to make the data linearly separable.\n",
    "\n",
    "To validate this assumption, the data is run on a kernelized Support Vectore Machine (SVM) model using the rbf kernel."
   ]
  },
  {
   "cell_type": "code",
   "execution_count": 12,
   "metadata": {},
   "outputs": [
    {
     "name": "stdout",
     "output_type": "stream",
     "text": [
      "The kernelized SVC classifier yields a score of 0.2802907915993538\n"
     ]
    }
   ],
   "source": [
    "clf = SVC(kernel = 'rbf', gamma=1)\n",
    "clf.fit(X_train, y_train) \n",
    "score = clf.score(X_test, y_test)\n",
    "\n",
    "train_score = rfc.score(X_train, y_train)\n",
    "test_score = rfc.score(X_test, y_test)\n",
    "\n",
    "print(\"The kernelized SVC classifier yields a score of \" + str(train_score) + \"on the training test \" +\n",
    "      \" and of \" + str(test_score) + \" on the testing set\")"
   ]
  },
  {
   "cell_type": "markdown",
   "metadata": {},
   "source": [
    "The performance is terrible, so this hypothesis isn't the right one.\n",
    "\n",
    "Another possibility is that the features aren't informative enough. \n",
    "\n",
    "To get an idea of how informative the features ares, let's plot the feature\\_importances\\_ attribute of the Random Forest classifier."
   ]
  },
  {
   "cell_type": "code",
   "execution_count": 22,
   "metadata": {},
   "outputs": [
    {
     "name": "stdout",
     "output_type": "stream",
     "text": [
      "Feature ranking:\n",
      "1. feature 126 (0.048527)\n",
      "2. feature 124 (0.026664)\n",
      "3. feature 94 (0.025603)\n",
      "4. feature 95 (0.021205)\n",
      "5. feature 127 (0.018558)\n",
      "6. feature 112 (0.014409)\n",
      "7. feature 96 (0.012706)\n",
      "8. feature 30 (0.010366)\n",
      "9. feature 101 (0.010174)\n",
      "10. feature 62 (0.010117)\n",
      "11. feature 129 (0.009961)\n",
      "12. feature 105 (0.009563)\n",
      "13. feature 97 (0.009040)\n",
      "14. feature 11 (0.009025)\n",
      "15. feature 102 (0.008940)\n",
      "16. feature 63 (0.008800)\n",
      "17. feature 12 (0.008642)\n",
      "18. feature 1 (0.008546)\n",
      "19. feature 141 (0.008497)\n",
      "20. feature 49 (0.008496)\n",
      "21. feature 13 (0.008390)\n",
      "22. feature 92 (0.008253)\n",
      "23. feature 117 (0.008208)\n",
      "24. feature 70 (0.008109)\n",
      "25. feature 140 (0.008081)\n",
      "26. feature 66 (0.008060)\n",
      "27. feature 33 (0.008004)\n",
      "28. feature 43 (0.007927)\n",
      "29. feature 41 (0.007918)\n",
      "30. feature 57 (0.007781)\n",
      "31. feature 31 (0.007780)\n",
      "32. feature 100 (0.007769)\n",
      "33. feature 44 (0.007754)\n",
      "34. feature 0 (0.007676)\n",
      "35. feature 9 (0.007672)\n",
      "36. feature 14 (0.007475)\n",
      "37. feature 3 (0.007461)\n",
      "38. feature 104 (0.007458)\n",
      "39. feature 147 (0.007393)\n",
      "40. feature 36 (0.007393)\n",
      "41. feature 148 (0.007336)\n",
      "42. feature 32 (0.007322)\n",
      "43. feature 85 (0.007297)\n",
      "44. feature 78 (0.007291)\n",
      "45. feature 133 (0.007286)\n",
      "46. feature 29 (0.007248)\n",
      "47. feature 46 (0.007247)\n",
      "48. feature 64 (0.007198)\n",
      "49. feature 149 (0.007180)\n",
      "50. feature 145 (0.007176)\n",
      "51. feature 82 (0.007161)\n",
      "52. feature 54 (0.007146)\n",
      "53. feature 113 (0.007136)\n",
      "54. feature 155 (0.007116)\n",
      "55. feature 37 (0.007078)\n",
      "56. feature 107 (0.007069)\n",
      "57. feature 50 (0.007044)\n",
      "58. feature 103 (0.006984)\n",
      "59. feature 153 (0.006967)\n",
      "60. feature 146 (0.006967)\n",
      "61. feature 143 (0.006960)\n",
      "62. feature 35 (0.006956)\n",
      "63. feature 10 (0.006929)\n",
      "64. feature 136 (0.006885)\n",
      "65. feature 137 (0.006842)\n",
      "66. feature 34 (0.006798)\n",
      "67. feature 76 (0.006686)\n",
      "68. feature 131 (0.006596)\n",
      "69. feature 2 (0.006571)\n",
      "70. feature 61 (0.006535)\n",
      "71. feature 80 (0.006431)\n",
      "72. feature 60 (0.006424)\n",
      "73. feature 79 (0.006397)\n",
      "74. feature 142 (0.006396)\n",
      "75. feature 135 (0.006344)\n",
      "76. feature 134 (0.006310)\n",
      "77. feature 45 (0.006265)\n",
      "78. feature 81 (0.006221)\n",
      "79. feature 72 (0.006147)\n",
      "80. feature 55 (0.006142)\n",
      "81. feature 28 (0.006072)\n",
      "82. feature 48 (0.006048)\n",
      "83. feature 130 (0.006040)\n",
      "84. feature 65 (0.006021)\n",
      "85. feature 59 (0.005996)\n",
      "86. feature 98 (0.005993)\n",
      "87. feature 84 (0.005937)\n",
      "88. feature 68 (0.005871)\n",
      "89. feature 99 (0.005866)\n",
      "90. feature 67 (0.005863)\n",
      "91. feature 75 (0.005853)\n",
      "92. feature 58 (0.005821)\n",
      "93. feature 139 (0.005820)\n",
      "94. feature 83 (0.005772)\n",
      "95. feature 144 (0.005736)\n",
      "96. feature 93 (0.005694)\n",
      "97. feature 24 (0.005671)\n",
      "98. feature 27 (0.005599)\n",
      "99. feature 56 (0.005412)\n",
      "100. feature 116 (0.005317)\n",
      "101. feature 38 (0.005291)\n",
      "102. feature 152 (0.005287)\n",
      "103. feature 69 (0.005252)\n",
      "104. feature 39 (0.005191)\n",
      "105. feature 71 (0.005184)\n",
      "106. feature 154 (0.005082)\n",
      "107. feature 7 (0.004960)\n",
      "108. feature 47 (0.004882)\n",
      "109. feature 40 (0.004834)\n",
      "110. feature 15 (0.004652)\n",
      "111. feature 123 (0.004629)\n",
      "112. feature 88 (0.004616)\n",
      "113. feature 73 (0.004552)\n",
      "114. feature 114 (0.004523)\n",
      "115. feature 91 (0.004369)\n",
      "116. feature 90 (0.004364)\n",
      "117. feature 150 (0.004268)\n",
      "118. feature 151 (0.004258)\n",
      "119. feature 4 (0.004148)\n",
      "120. feature 42 (0.004017)\n",
      "121. feature 132 (0.003861)\n",
      "122. feature 125 (0.003838)\n",
      "123. feature 106 (0.003696)\n",
      "124. feature 74 (0.003633)\n",
      "125. feature 77 (0.003570)\n",
      "126. feature 118 (0.003299)\n",
      "127. feature 87 (0.003217)\n",
      "128. feature 5 (0.002947)\n",
      "129. feature 115 (0.002873)\n",
      "130. feature 16 (0.002858)\n",
      "131. feature 119 (0.002585)\n",
      "132. feature 8 (0.002514)\n",
      "133. feature 20 (0.002454)\n",
      "134. feature 23 (0.002366)\n",
      "135. feature 19 (0.002319)\n",
      "136. feature 138 (0.002287)\n",
      "137. feature 122 (0.002237)\n",
      "138. feature 86 (0.002106)\n",
      "139. feature 53 (0.002048)\n",
      "140. feature 26 (0.002020)\n",
      "141. feature 128 (0.001950)\n",
      "142. feature 22 (0.001823)\n",
      "143. feature 52 (0.001594)\n",
      "144. feature 6 (0.001549)\n",
      "145. feature 25 (0.001500)\n",
      "146. feature 120 (0.001388)\n",
      "147. feature 17 (0.001279)\n",
      "148. feature 89 (0.001063)\n",
      "149. feature 51 (0.000805)\n",
      "150. feature 121 (0.000271)\n",
      "151. feature 111 (0.000262)\n",
      "152. feature 109 (0.000252)\n",
      "153. feature 21 (0.000153)\n",
      "154. feature 18 (0.000066)\n",
      "155. feature 108 (0.000064)\n",
      "156. feature 110 (0.000007)\n"
     ]
    },
    {
     "data": {
      "image/png": "[encoded data removed]",
      "text/plain": [
       "<Figure size 576x396 with 1 Axes>"
      ]
     },
     "metadata": {},
     "output_type": "display_data"
    },
    {
     "data": {
      "image/png": "[encoded data removed]",
      "text/plain": [
       "<Figure size 576x396 with 1 Axes>"
      ]
     },
     "metadata": {},
     "output_type": "display_data"
    }
   ],
   "source": [
    "importances = rfc.feature_importances_\n",
    "\n",
    "std = np.std([tree.feature_importances_ for tree in rfc.estimators_],\n",
    "             axis=0)\n",
    "\n",
    "indices = np.argsort(importances)[::-1]\n",
    "\n",
    "# Print the feature ranking\n",
    "print(\"Feature ranking:\")\n",
    "\n",
    "for f in range(X.shape[1]):\n",
    "    print(\"%d. feature %d (%f)\" % (f + 1, indices[f], importances[indices[f]]))\n",
    "\n",
    "# Plot the feature importances of the forest\n",
    "plt.figure()\n",
    "plt.title(\"Feature importances\")\n",
    "plt.bar(range(X.shape[1]), importances[indices],\n",
    "       color=\"r\", yerr=std[indices], align=\"center\")\n",
    "plt.xticks(range(X.shape[1]), indices)\n",
    "plt.xlim([-1, X.shape[1]])\n",
    "plt.show()"
   ]
  },
  {
   "cell_type": "markdown",
   "metadata": {},
   "source": [
    "Let's try applying PCA to the features to see what happens."
   ]
  },
  {
   "cell_type": "code",
   "execution_count": 14,
   "metadata": {},
   "outputs": [
    {
     "data": {
      "text/plain": [
       "array([0.75146483, 0.12196016, 0.04089509])"
      ]
     },
     "execution_count": 14,
     "metadata": {},
     "output_type": "execute_result"
    }
   ],
   "source": [
    "pca = PCA(n_components=3)\n",
    "pca.fit(X)\n",
    "pca.explained_variance_ratio_"
   ]
  },
  {
   "cell_type": "markdown",
   "metadata": {},
   "source": [
    "The answer is very informative: the 1st principal component accounts for 75% of the variance in the dataset and the three first components account for 90%. This intuitevely means that the information relevant for the classification task tends to be centered towards determinate features, as opposed to being spread evenly in the dataset.\n",
    "\n",
    "The next step is trying to identify these relevant features."
   ]
  },
  {
   "cell_type": "code",
   "execution_count": 15,
   "metadata": {},
   "outputs": [
    {
     "name": "stdout",
     "output_type": "stream",
     "text": [
      "0.44368899360484687\n"
     ]
    },
    {
     "data": {
      "text/plain": [
       "0.43134087237479807"
      ]
     },
     "execution_count": 15,
     "metadata": {},
     "output_type": "execute_result"
    }
   ],
   "source": [
    "scaler = StandardScaler()\n",
    "X_train = scaler.fit_transform(X_train)\n",
    "X_test = scaler.transform(X_test)\n",
    "\n",
    "clf = LogisticRegression(solver='lbfgs', multi_class=\"multinomial\", penalty=\"l2\")\n",
    "clf.fit(X_train, y_train)\n",
    "print(clf.score(X_train, y_train))\n",
    "clf.score(X_test, y_test)"
   ]
  },
  {
   "cell_type": "code",
   "execution_count": 16,
   "metadata": {},
   "outputs": [
    {
     "name": "stdout",
     "output_type": "stream",
     "text": [
      "For class Platform, best features:\n",
      "  - Variability_of_Note_Durations\n",
      "  - Glissando_Prevalence\n",
      "  - Amount_of_Arpeggiation\n",
      "  - Stepwise_Motion\n",
      "  - Average_Rest_Fraction_Per_Voice\n",
      "  - String_Ensemble_Prevalence\n",
      "  - Note_Density\n",
      "  - Average_Number_of_Simultaneous_Pitch_Classes\n",
      "  - Voice_Equality_-_Note_Duration\n",
      "  - Variability_Across_Voices_of_Total_Rests_Per_Voice\n",
      "For class Adventure, best features:\n",
      "  - Importance_of_Bass_Register\n",
      "  - Melodic_Perfect_Fifths\n",
      "  - Variability_of_Number_of_Simultaneous_Pitch_Classes\n",
      "  - Mean_Pitch\n",
      "  - Average_Number_of_Simultaneous_Pitch_Classes\n",
      "  - Prevalence_of_Most_Common_Melodic_Interval\n",
      "  - Melodic_Thirds\n",
      "  - Mean_Melodic_Interval\n",
      "  - Average_Number_of_Independent_Voices\n",
      "  - Amount_of_Arpeggiation\n",
      "For class Role-Playing, best features:\n",
      "  - Orchestral_Strings_Prevalence\n",
      "  - String_Ensemble_Prevalence\n",
      "  - Note_Density\n",
      "  - Melodic_Thirds\n",
      "  - Repeated_Notes\n",
      "  - Variability_of_Note_Durations\n",
      "  - Woodwinds_Prevalence\n",
      "  - Partial_Chords\n",
      "  - Voice_Equality_-_Note_Duration\n",
      "  - Variability_Across_Voices_of_Total_Rests_Per_Voice\n",
      "For class Shooter, best features:\n",
      "  - Maximum_Number_of_Independent_Voices\n",
      "  - Prevalence_of_Second_Most_Common_Vertical_Interval\n",
      "  - Mean_Melodic_Interval\n",
      "  - Orchestral_Strings_Prevalence\n",
      "  - Complex_Chords\n",
      "  - Repeated_Notes\n",
      "  - Partial_Chords\n",
      "  - Average_Number_of_Independent_Voices\n",
      "  - Woodwinds_Prevalence\n",
      "  - Average_Number_of_Simultaneous_Pitch_Classes\n"
     ]
    }
   ],
   "source": [
    "best_features = np.take(df_pred.columns[2:], np.abs(clf.coef_).argsort()[:,-10:])\n",
    "for i in range(len(y_string)):\n",
    "    print(\"For class %s, best features:\"%y_string[i])\n",
    "    for feature in best_features[i]:\n",
    "        print(\"  -\", feature)"
   ]
  },
  {
   "cell_type": "code",
   "execution_count": 17,
   "metadata": {},
   "outputs": [
    {
     "data": {
      "image/png": "[encoded data removed]",
      "text/plain": [
       "<Figure size 720x504 with 2 Axes>"
      ]
     },
     "metadata": {},
     "output_type": "display_data"
    }
   ],
   "source": [
    "arr = confusion_matrix(clf.predict(X_test), y_test)\n",
    "df_cm = pd.DataFrame(arr, index = [i for i in y_string],\n",
    "                  columns = [i for i in y_string])\n",
    "plt.figure(figsize = (10,7))\n",
    "plt.xlabel(\"Predicted class\")\n",
    "plt.ylabel(\"Actual class\")\n",
    "sns.heatmap(df_cm, annot=True, cmap='Blues', fmt='g')\n",
    "plt.show()"
   ]
  }
 ],
 "metadata": {
  "kernelspec": {
   "display_name": "Python [default]",
   "language": "python",
   "name": "python3"
  },
  "language_info": {
   "codemirror_mode": {
    "name": "ipython",
    "version": 3
   },
   "file_extension": ".py",
   "mimetype": "text/x-python",
   "name": "python",
   "nbconvert_exporter": "python",
   "pygments_lexer": "ipython3",
   "version": "3.5.3"
  }
 },
 "nbformat": 4,
 "nbformat_minor": 2
}
