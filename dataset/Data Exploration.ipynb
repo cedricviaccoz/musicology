{
 "cells": [
  {
   "cell_type": "markdown",
   "metadata": {},
   "source": [
    "The goal with this notebook is to provide a basic analysis of the games dataset. It"
   ]
  },
  {
   "cell_type": "code",
   "execution_count": 1,
   "metadata": {},
   "outputs": [
    {
     "name": "stdout",
     "output_type": "stream",
     "text": [
      "There is 31685 midi files, from 3918 games, with 31249 midis matched with tgdb\n"
     ]
    },
    {
     "data": {
      "text/html": [
       "<div>\n",
       "<style scoped>\n",
       "    .dataframe tbody tr th:only-of-type {\n",
       "        vertical-align: middle;\n",
       "    }\n",
       "\n",
       "    .dataframe tbody tr th {\n",
       "        vertical-align: top;\n",
       "    }\n",
       "\n",
       "    .dataframe thead th {\n",
       "        text-align: right;\n",
       "    }\n",
       "</style>\n",
       "<table border=\"1\" class=\"dataframe\">\n",
       "  <thead>\n",
       "    <tr style=\"text-align: right;\">\n",
       "      <th></th>\n",
       "      <th>brand</th>\n",
       "      <th>console</th>\n",
       "      <th>game</th>\n",
       "      <th>title</th>\n",
       "      <th>file_name</th>\n",
       "      <th>tgdb_genres</th>\n",
       "      <th>tgdb_id</th>\n",
       "      <th>tgdb_developer</th>\n",
       "      <th>tgdb_publisher</th>\n",
       "      <th>tgdb_platform</th>\n",
       "      <th>tgdb_gametitle</th>\n",
       "      <th>tgdb_releasedate</th>\n",
       "      <th>tgdb_players</th>\n",
       "      <th>tgdb_rating</th>\n",
       "      <th>tgdb_esrb</th>\n",
       "      <th>tgdb_overview</th>\n",
       "    </tr>\n",
       "  </thead>\n",
       "  <tbody>\n",
       "    <tr>\n",
       "      <th>0</th>\n",
       "      <td>Nintendo</td>\n",
       "      <td>NES</td>\n",
       "      <td>10-Yard Fight</td>\n",
       "      <td>Kick Off</td>\n",
       "      <td>b5da1581fd2b425122446a638363a28296aee817.mid</td>\n",
       "      <td>['Sports']</td>\n",
       "      <td>317.0</td>\n",
       "      <td>Nintendo</td>\n",
       "      <td>Nintendo</td>\n",
       "      <td>Nintendo Entertainment System (NES)</td>\n",
       "      <td>10-Yard Fight</td>\n",
       "      <td>1985-10-18</td>\n",
       "      <td>2</td>\n",
       "      <td>4.5714</td>\n",
       "      <td>E - Everyone</td>\n",
       "      <td>The game is viewed in a top-down perspective a...</td>\n",
       "    </tr>\n",
       "    <tr>\n",
       "      <th>1</th>\n",
       "      <td>Miscellaneous</td>\n",
       "      <td>Arcade</td>\n",
       "      <td>1941: Counter Attack</td>\n",
       "      <td>Krote Armor Stage</td>\n",
       "      <td>efe29bdfc97d46a327467ea5d6e36bff6edc4223.mid</td>\n",
       "      <td>['Shooter']</td>\n",
       "      <td>2434.0</td>\n",
       "      <td>Capcom</td>\n",
       "      <td>Capcom</td>\n",
       "      <td>Arcade</td>\n",
       "      <td>1941: Counter Attack</td>\n",
       "      <td>1990-02-01</td>\n",
       "      <td>2</td>\n",
       "      <td>6.3333</td>\n",
       "      <td>NaN</td>\n",
       "      <td>The goal is to shoot down enemy airplanes and ...</td>\n",
       "    </tr>\n",
       "    <tr>\n",
       "      <th>2</th>\n",
       "      <td>Miscellaneous</td>\n",
       "      <td>Arcade</td>\n",
       "      <td>1941: Counter Attack</td>\n",
       "      <td>Level 6 Section 1</td>\n",
       "      <td>a356a1fd4960e4faa875c13bf7d03cfef3255cfd.mid</td>\n",
       "      <td>['Shooter']</td>\n",
       "      <td>2434.0</td>\n",
       "      <td>Capcom</td>\n",
       "      <td>Capcom</td>\n",
       "      <td>Arcade</td>\n",
       "      <td>1941: Counter Attack</td>\n",
       "      <td>1990-02-01</td>\n",
       "      <td>2</td>\n",
       "      <td>6.3333</td>\n",
       "      <td>NaN</td>\n",
       "      <td>The goal is to shoot down enemy airplanes and ...</td>\n",
       "    </tr>\n",
       "    <tr>\n",
       "      <th>3</th>\n",
       "      <td>Computer Systems</td>\n",
       "      <td>Commodore 64</td>\n",
       "      <td>1942</td>\n",
       "      <td>Main Theme</td>\n",
       "      <td>52e23ff501c107b2055d543d8249e96f43eab97e.mid</td>\n",
       "      <td>['Shooter']</td>\n",
       "      <td>6434.0</td>\n",
       "      <td>NaN</td>\n",
       "      <td>Elite</td>\n",
       "      <td>Commodore 64</td>\n",
       "      <td>1942</td>\n",
       "      <td>NaT</td>\n",
       "      <td>1</td>\n",
       "      <td>7.0000</td>\n",
       "      <td>NaN</td>\n",
       "      <td>1942 is set in the Pacific theater of World Wa...</td>\n",
       "    </tr>\n",
       "    <tr>\n",
       "      <th>4</th>\n",
       "      <td>Nintendo</td>\n",
       "      <td>NES</td>\n",
       "      <td>1943</td>\n",
       "      <td>Assault on Surface Forces B</td>\n",
       "      <td>26634701e919c25fddd82b00d63d75e1dedb5326.mid</td>\n",
       "      <td>['Shooter']</td>\n",
       "      <td>1018.0</td>\n",
       "      <td>Capcom</td>\n",
       "      <td>Capcom</td>\n",
       "      <td>Nintendo Entertainment System (NES)</td>\n",
       "      <td>1943: The Battle of Midway</td>\n",
       "      <td>1987-06-01</td>\n",
       "      <td>2</td>\n",
       "      <td>4.5000</td>\n",
       "      <td>E - Everyone</td>\n",
       "      <td>The game is set in the Pacific theater of Worl...</td>\n",
       "    </tr>\n",
       "  </tbody>\n",
       "</table>\n",
       "</div>"
      ],
      "text/plain": [
       "              brand       console                  game  \\\n",
       "0          Nintendo           NES         10-Yard Fight   \n",
       "1     Miscellaneous        Arcade  1941: Counter Attack   \n",
       "2     Miscellaneous        Arcade  1941: Counter Attack   \n",
       "3  Computer Systems  Commodore 64                  1942   \n",
       "4          Nintendo           NES                  1943   \n",
       "\n",
       "                         title                                     file_name  \\\n",
       "0                     Kick Off  b5da1581fd2b425122446a638363a28296aee817.mid   \n",
       "1            Krote Armor Stage  efe29bdfc97d46a327467ea5d6e36bff6edc4223.mid   \n",
       "2            Level 6 Section 1  a356a1fd4960e4faa875c13bf7d03cfef3255cfd.mid   \n",
       "3                   Main Theme  52e23ff501c107b2055d543d8249e96f43eab97e.mid   \n",
       "4  Assault on Surface Forces B  26634701e919c25fddd82b00d63d75e1dedb5326.mid   \n",
       "\n",
       "   tgdb_genres  tgdb_id tgdb_developer tgdb_publisher  \\\n",
       "0   ['Sports']    317.0       Nintendo       Nintendo   \n",
       "1  ['Shooter']   2434.0         Capcom         Capcom   \n",
       "2  ['Shooter']   2434.0         Capcom         Capcom   \n",
       "3  ['Shooter']   6434.0            NaN          Elite   \n",
       "4  ['Shooter']   1018.0         Capcom         Capcom   \n",
       "\n",
       "                         tgdb_platform              tgdb_gametitle  \\\n",
       "0  Nintendo Entertainment System (NES)               10-Yard Fight   \n",
       "1                               Arcade        1941: Counter Attack   \n",
       "2                               Arcade        1941: Counter Attack   \n",
       "3                         Commodore 64                        1942   \n",
       "4  Nintendo Entertainment System (NES)  1943: The Battle of Midway   \n",
       "\n",
       "  tgdb_releasedate tgdb_players  tgdb_rating     tgdb_esrb  \\\n",
       "0       1985-10-18            2       4.5714  E - Everyone   \n",
       "1       1990-02-01            2       6.3333           NaN   \n",
       "2       1990-02-01            2       6.3333           NaN   \n",
       "3              NaT            1       7.0000           NaN   \n",
       "4       1987-06-01            2       4.5000  E - Everyone   \n",
       "\n",
       "                                       tgdb_overview  \n",
       "0  The game is viewed in a top-down perspective a...  \n",
       "1  The goal is to shoot down enemy airplanes and ...  \n",
       "2  The goal is to shoot down enemy airplanes and ...  \n",
       "3  1942 is set in the Pacific theater of World Wa...  \n",
       "4  The game is set in the Pacific theater of Worl...  "
      ]
     },
     "execution_count": 1,
     "metadata": {},
     "output_type": "execute_result"
    }
   ],
   "source": [
    "import pandas as pd\n",
    "import os\n",
    "\n",
    "df = pd.read_csv('midi_dataframe.csv', parse_dates=[11])\n",
    "num_midis_before = len(df)\n",
    "print('There is %d midi files, from %d games, with %d midis matched with tgdb'\n",
    "      %(num_midis_before,\n",
    "        len(df.groupby(['brand', 'console', 'game'])),\n",
    "        (df.tgdb_gametitle.notnull().sum())))\n",
    "df.head()"
   ]
  },
  {
   "cell_type": "markdown",
   "metadata": {},
   "source": [
    "We first check that every midi file is only present once, if not we drop the rows."
   ]
  },
  {
   "cell_type": "code",
   "execution_count": 2,
   "metadata": {},
   "outputs": [
    {
     "name": "stdout",
     "output_type": "stream",
     "text": [
      "There was 2 duplicated midi files, 31683 midis left\n"
     ]
    }
   ],
   "source": [
    "num_dup = df.duplicated(subset='file_name').sum()\n",
    "df.drop_duplicates(subset='file_name', inplace=True)\n",
    "print('There was %d duplicated midi files, %d midis left'%(num_dup, len(df)))"
   ]
  },
  {
   "cell_type": "markdown",
   "metadata": {},
   "source": [
    "Since we are interested in the genre, we only keep midis that have one."
   ]
  },
  {
   "cell_type": "code",
   "execution_count": 3,
   "metadata": {},
   "outputs": [
    {
     "name": "stdout",
     "output_type": "stream",
     "text": [
      "We removed 436 midis, 31247 midis left\n"
     ]
    }
   ],
   "source": [
    "num_genres_na = df.tgdb_genres.isnull().sum()\n",
    "df.dropna(subset=['tgdb_genres'], inplace=True)\n",
    "print(\"We removed %d midis, %d midis left\"%(num_genres_na, len(df)))"
   ]
  },
  {
   "cell_type": "markdown",
   "metadata": {},
   "source": [
    "Then, there are some categories, such as Medleys or Piano only that are not interesting.\n",
    "\n",
    "There is also a big \"remix\" scene on vgmusic, so we also remove those."
   ]
  },
  {
   "cell_type": "code",
   "execution_count": 4,
   "metadata": {},
   "outputs": [
    {
     "name": "stdout",
     "output_type": "stream",
     "text": [
      "We removed 872 midis from Medleys and Piano categories\n",
      "We removed 1860 midis containing \"remix\" in their title\n",
      "28537 midis left\n"
     ]
    }
   ],
   "source": [
    "categories_filter = df.console.isin(['Medleys', 'Piano Only'])\n",
    "remix_filter = df.title.str.contains('[Rr]emix')\n",
    "\n",
    "df = df[~categories_filter & ~remix_filter]\n",
    "print('We removed %d midis from Medleys and Piano categories'%categories_filter.sum())\n",
    "print('We removed %d midis containing \"remix\" in their title'%remix_filter.sum())\n",
    "print('%d midis left'%len(df))"
   ]
  },
  {
   "cell_type": "markdown",
   "metadata": {},
   "source": [
    "There often exists several versions of the same midi file, most of the time denoted by 'title (1)', 'title (2)', etc.\n",
    "\n",
    "We also consider removing those, but keeping only the one with the highest value, or if there are several with the same title, we randomly keep one."
   ]
  },
  {
   "cell_type": "code",
   "execution_count": 5,
   "metadata": {},
   "outputs": [
    {
     "name": "stdout",
     "output_type": "stream",
     "text": [
      "We removed 6358 midis, 22179 midis left\n"
     ]
    }
   ],
   "source": [
    "num_midis_before = len(df)\n",
    "\n",
    "df_stripped = df.copy()\n",
    "df_stripped.title = df.title.str.replace('\\(\\d+\\)', '').str.rstrip()\n",
    "df_stripped['rank'] = df.title.str.extract('\\((\\d+)\\)', expand=False)\n",
    "df = df_stripped.sort_values(by='rank', ascending=False).groupby(['brand', 'console', 'game', 'title']).first().reset_index()\n",
    "print(\"We removed %d midis, %d midis left\"%(num_midis_before-len(df), len(df)))"
   ]
  },
  {
   "cell_type": "markdown",
   "metadata": {},
   "source": [
    "An alternative version of the dataset is uploaded. This version is flattened compared to the previous one: entries of the form (game, genre1,genre2,...,genreN) have been trasformed in n entries of the form (game, genre1), (game, genre2),... (game, genre5). The reason for this change is purely technical and allows to compute statics concerning genres more easily. \n",
    "\n",
    "(NOTE: the cleaning operation done the other csv should be applied to this one too in the future)."
   ]
  },
  {
   "cell_type": "code",
   "execution_count": 6,
   "metadata": {
    "collapsed": true
   },
   "outputs": [],
   "source": [
    "genres_df = pd.read_csv('midi_dataframe_genres.csv', parse_dates=[11])"
   ]
  },
  {
   "cell_type": "markdown",
   "metadata": {},
   "source": [
    "Here follows the percentage of games belonging to each genre. Please note that since a game can have more genres, the percentages don't add up to 100."
   ]
  },
  {
   "cell_type": "code",
   "execution_count": 7,
   "metadata": {},
   "outputs": [
    {
     "data": {
      "text/html": [
       "<div>\n",
       "<style scoped>\n",
       "    .dataframe tbody tr th:only-of-type {\n",
       "        vertical-align: middle;\n",
       "    }\n",
       "\n",
       "    .dataframe tbody tr th {\n",
       "        vertical-align: top;\n",
       "    }\n",
       "\n",
       "    .dataframe thead th {\n",
       "        text-align: right;\n",
       "    }\n",
       "</style>\n",
       "<table border=\"1\" class=\"dataframe\">\n",
       "  <thead>\n",
       "    <tr style=\"text-align: right;\">\n",
       "      <th></th>\n",
       "      <th>title</th>\n",
       "    </tr>\n",
       "    <tr>\n",
       "      <th>tgdb_genres</th>\n",
       "      <th></th>\n",
       "    </tr>\n",
       "  </thead>\n",
       "  <tbody>\n",
       "    <tr>\n",
       "      <th>Action</th>\n",
       "      <td>0.449276</td>\n",
       "    </tr>\n",
       "    <tr>\n",
       "      <th>Role-Playing</th>\n",
       "      <td>0.338438</td>\n",
       "    </tr>\n",
       "    <tr>\n",
       "      <th>Platform</th>\n",
       "      <td>0.272804</td>\n",
       "    </tr>\n",
       "    <tr>\n",
       "      <th>Adventure</th>\n",
       "      <td>0.261660</td>\n",
       "    </tr>\n",
       "    <tr>\n",
       "      <th>Shooter</th>\n",
       "      <td>0.093948</td>\n",
       "    </tr>\n",
       "    <tr>\n",
       "      <th>Fighting</th>\n",
       "      <td>0.076112</td>\n",
       "    </tr>\n",
       "    <tr>\n",
       "      <th>Puzzle</th>\n",
       "      <td>0.072047</td>\n",
       "    </tr>\n",
       "    <tr>\n",
       "      <th>Sports</th>\n",
       "      <td>0.050321</td>\n",
       "    </tr>\n",
       "    <tr>\n",
       "      <th>Strategy</th>\n",
       "      <td>0.043908</td>\n",
       "    </tr>\n",
       "    <tr>\n",
       "      <th>Racing</th>\n",
       "      <td>0.036759</td>\n",
       "    </tr>\n",
       "    <tr>\n",
       "      <th>Stealth</th>\n",
       "      <td>0.008340</td>\n",
       "    </tr>\n",
       "    <tr>\n",
       "      <th>Life Simulation</th>\n",
       "      <td>0.007920</td>\n",
       "    </tr>\n",
       "    <tr>\n",
       "      <th>Horror</th>\n",
       "      <td>0.006202</td>\n",
       "    </tr>\n",
       "    <tr>\n",
       "      <th>Music</th>\n",
       "      <td>0.004030</td>\n",
       "    </tr>\n",
       "    <tr>\n",
       "      <th>Construction and Management Simulation</th>\n",
       "      <td>0.003574</td>\n",
       "    </tr>\n",
       "    <tr>\n",
       "      <th>Sandbox</th>\n",
       "      <td>0.003504</td>\n",
       "    </tr>\n",
       "    <tr>\n",
       "      <th>MMO</th>\n",
       "      <td>0.003224</td>\n",
       "    </tr>\n",
       "    <tr>\n",
       "      <th>Flight Simulator</th>\n",
       "      <td>0.002593</td>\n",
       "    </tr>\n",
       "    <tr>\n",
       "      <th>Vehicle Simulation</th>\n",
       "      <td>0.000035</td>\n",
       "    </tr>\n",
       "  </tbody>\n",
       "</table>\n",
       "</div>"
      ],
      "text/plain": [
       "                                           title\n",
       "tgdb_genres                                     \n",
       "Action                                  0.449276\n",
       "Role-Playing                            0.338438\n",
       "Platform                                0.272804\n",
       "Adventure                               0.261660\n",
       "Shooter                                 0.093948\n",
       "Fighting                                0.076112\n",
       "Puzzle                                  0.072047\n",
       "Sports                                  0.050321\n",
       "Strategy                                0.043908\n",
       "Racing                                  0.036759\n",
       "Stealth                                 0.008340\n",
       "Life Simulation                         0.007920\n",
       "Horror                                  0.006202\n",
       "Music                                   0.004030\n",
       "Construction and Management Simulation  0.003574\n",
       "Sandbox                                 0.003504\n",
       "MMO                                     0.003224\n",
       "Flight Simulator                        0.002593\n",
       "Vehicle Simulation                      0.000035"
      ]
     },
     "execution_count": 7,
     "metadata": {},
     "output_type": "execute_result"
    }
   ],
   "source": [
    "groupby_df = genres_df[['tgdb_genres', 'title']].groupby('tgdb_genres').count().sort_values('title', ascending = False)\n",
    "groupby_df['title'] /= num_midis_before\n",
    "groupby_df"
   ]
  },
  {
   "cell_type": "markdown",
   "metadata": {},
   "source": [
    "Here follows the list of the genres' names."
   ]
  },
  {
   "cell_type": "code",
   "execution_count": 8,
   "metadata": {},
   "outputs": [
    {
     "data": {
      "text/plain": [
       "array(['Sports', 'Shooter', 'Action', 'Strategy', 'Fighting', 'Puzzle',\n",
       "       'Role-Playing', 'Adventure', 'Platform', 'Flight Simulator',\n",
       "       'Racing', 'Construction and Management Simulation',\n",
       "       'Life Simulation', 'MMO', 'Horror', 'Sandbox', 'Music', 'Stealth',\n",
       "       'Vehicle Simulation'], dtype=object)"
      ]
     },
     "execution_count": 8,
     "metadata": {},
     "output_type": "execute_result"
    }
   ],
   "source": [
    "genres = genres_df.tgdb_genres.unique()\n",
    "genres"
   ]
  },
  {
   "cell_type": "markdown",
   "metadata": {},
   "source": [
    "The number of genres is 19, and could be reduced to 10 if we consider only the genres for which we have at least 3% dataset coverage or 6 if we consider only the genres for which we have at least 9% dataset coverage."
   ]
  },
  {
   "cell_type": "code",
   "execution_count": 9,
   "metadata": {},
   "outputs": [
    {
     "data": {
      "text/plain": [
       "19"
      ]
     },
     "execution_count": 9,
     "metadata": {},
     "output_type": "execute_result"
    }
   ],
   "source": [
    "len(genres)"
   ]
  }
 ],
 "metadata": {
  "kernelspec": {
   "display_name": "Python [default]",
   "language": "python",
   "name": "python3"
  },
  "language_info": {
   "codemirror_mode": {
    "name": "ipython",
    "version": 3
   },
   "file_extension": ".py",
   "mimetype": "text/x-python",
   "name": "python",
   "nbconvert_exporter": "python",
   "pygments_lexer": "ipython3",
   "version": "3.5.3"
  }
 },
 "nbformat": 4,
 "nbformat_minor": 2
}
