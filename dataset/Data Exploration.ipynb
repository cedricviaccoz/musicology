{
 "cells": [
  {
   "cell_type": "markdown",
   "metadata": {},
   "source": [
    "# Game Music dataset: data cleaning and exploration\n",
    "The goal with this notebook is cleaning the dataset to make it usable as well as providing a descriptive analysis of the dataset features.\n",
    "\n",
    "## Data loading and cleaning"
   ]
  },
  {
   "cell_type": "code",
   "execution_count": 14,
   "metadata": {},
   "outputs": [],
   "source": [
    "import warnings\n",
    "warnings.filterwarnings('ignore')"
   ]
  },
  {
   "cell_type": "code",
   "execution_count": 15,
   "metadata": {},
   "outputs": [
    {
     "name": "stdout",
     "output_type": "stream",
     "text": [
      "There is 31685 midi files, from 3388 games, with 31249 midis matched with tgdb\n"
     ]
    },
    {
     "data": {
      "text/html": [
       "<div>\n",
       "<style scoped>\n",
       "    .dataframe tbody tr th:only-of-type {\n",
       "        vertical-align: middle;\n",
       "    }\n",
       "\n",
       "    .dataframe tbody tr th {\n",
       "        vertical-align: top;\n",
       "    }\n",
       "\n",
       "    .dataframe thead th {\n",
       "        text-align: right;\n",
       "    }\n",
       "</style>\n",
       "<table border=\"1\" class=\"dataframe\">\n",
       "  <thead>\n",
       "    <tr style=\"text-align: right;\">\n",
       "      <th></th>\n",
       "      <th>brand</th>\n",
       "      <th>console</th>\n",
       "      <th>game</th>\n",
       "      <th>title</th>\n",
       "      <th>file_name</th>\n",
       "      <th>tgdb_genres</th>\n",
       "      <th>tgdb_id</th>\n",
       "      <th>tgdb_developer</th>\n",
       "      <th>tgdb_publisher</th>\n",
       "      <th>tgdb_platform</th>\n",
       "      <th>tgdb_gametitle</th>\n",
       "      <th>tgdb_releasedate</th>\n",
       "      <th>tgdb_players</th>\n",
       "      <th>tgdb_rating</th>\n",
       "      <th>tgdb_esrb</th>\n",
       "      <th>tgdb_overview</th>\n",
       "    </tr>\n",
       "  </thead>\n",
       "  <tbody>\n",
       "    <tr>\n",
       "      <th>0</th>\n",
       "      <td>Nintendo</td>\n",
       "      <td>NES</td>\n",
       "      <td>10-Yard Fight</td>\n",
       "      <td>Kick Off</td>\n",
       "      <td>b5da1581fd2b425122446a638363a28296aee817.mid</td>\n",
       "      <td>['Sports']</td>\n",
       "      <td>317.0</td>\n",
       "      <td>Nintendo</td>\n",
       "      <td>Nintendo</td>\n",
       "      <td>Nintendo Entertainment System (NES)</td>\n",
       "      <td>10-Yard Fight</td>\n",
       "      <td>1985-10-18</td>\n",
       "      <td>2</td>\n",
       "      <td>4.5714</td>\n",
       "      <td>E - Everyone</td>\n",
       "      <td>The game is viewed in a top-down perspective a...</td>\n",
       "    </tr>\n",
       "    <tr>\n",
       "      <th>1</th>\n",
       "      <td>Miscellaneous</td>\n",
       "      <td>Arcade</td>\n",
       "      <td>1941: Counter Attack</td>\n",
       "      <td>Krote Armor Stage</td>\n",
       "      <td>efe29bdfc97d46a327467ea5d6e36bff6edc4223.mid</td>\n",
       "      <td>['Shooter']</td>\n",
       "      <td>2434.0</td>\n",
       "      <td>Capcom</td>\n",
       "      <td>Capcom</td>\n",
       "      <td>Arcade</td>\n",
       "      <td>1941: Counter Attack</td>\n",
       "      <td>1990-02-01</td>\n",
       "      <td>2</td>\n",
       "      <td>6.3333</td>\n",
       "      <td>NaN</td>\n",
       "      <td>The goal is to shoot down enemy airplanes and ...</td>\n",
       "    </tr>\n",
       "    <tr>\n",
       "      <th>2</th>\n",
       "      <td>Miscellaneous</td>\n",
       "      <td>Arcade</td>\n",
       "      <td>1941: Counter Attack</td>\n",
       "      <td>Level 6 Section 1</td>\n",
       "      <td>a356a1fd4960e4faa875c13bf7d03cfef3255cfd.mid</td>\n",
       "      <td>['Shooter']</td>\n",
       "      <td>2434.0</td>\n",
       "      <td>Capcom</td>\n",
       "      <td>Capcom</td>\n",
       "      <td>Arcade</td>\n",
       "      <td>1941: Counter Attack</td>\n",
       "      <td>1990-02-01</td>\n",
       "      <td>2</td>\n",
       "      <td>6.3333</td>\n",
       "      <td>NaN</td>\n",
       "      <td>The goal is to shoot down enemy airplanes and ...</td>\n",
       "    </tr>\n",
       "    <tr>\n",
       "      <th>3</th>\n",
       "      <td>Computer Systems</td>\n",
       "      <td>Commodore 64</td>\n",
       "      <td>1942</td>\n",
       "      <td>Main Theme</td>\n",
       "      <td>52e23ff501c107b2055d543d8249e96f43eab97e.mid</td>\n",
       "      <td>['Shooter']</td>\n",
       "      <td>6434.0</td>\n",
       "      <td>NaN</td>\n",
       "      <td>Elite</td>\n",
       "      <td>Commodore 64</td>\n",
       "      <td>1942</td>\n",
       "      <td>NaT</td>\n",
       "      <td>1</td>\n",
       "      <td>7.0000</td>\n",
       "      <td>NaN</td>\n",
       "      <td>1942 is set in the Pacific theater of World Wa...</td>\n",
       "    </tr>\n",
       "    <tr>\n",
       "      <th>4</th>\n",
       "      <td>Nintendo</td>\n",
       "      <td>NES</td>\n",
       "      <td>1943</td>\n",
       "      <td>Assault on Surface Forces B</td>\n",
       "      <td>26634701e919c25fddd82b00d63d75e1dedb5326.mid</td>\n",
       "      <td>['Shooter']</td>\n",
       "      <td>1018.0</td>\n",
       "      <td>Capcom</td>\n",
       "      <td>Capcom</td>\n",
       "      <td>Nintendo Entertainment System (NES)</td>\n",
       "      <td>1943: The Battle of Midway</td>\n",
       "      <td>1987-06-01</td>\n",
       "      <td>2</td>\n",
       "      <td>4.5000</td>\n",
       "      <td>E - Everyone</td>\n",
       "      <td>The game is set in the Pacific theater of Worl...</td>\n",
       "    </tr>\n",
       "  </tbody>\n",
       "</table>\n",
       "</div>"
      ],
      "text/plain": [
       "              brand       console                  game  \\\n",
       "0          Nintendo           NES         10-Yard Fight   \n",
       "1     Miscellaneous        Arcade  1941: Counter Attack   \n",
       "2     Miscellaneous        Arcade  1941: Counter Attack   \n",
       "3  Computer Systems  Commodore 64                  1942   \n",
       "4          Nintendo           NES                  1943   \n",
       "\n",
       "                         title                                     file_name  \\\n",
       "0                     Kick Off  b5da1581fd2b425122446a638363a28296aee817.mid   \n",
       "1            Krote Armor Stage  efe29bdfc97d46a327467ea5d6e36bff6edc4223.mid   \n",
       "2            Level 6 Section 1  a356a1fd4960e4faa875c13bf7d03cfef3255cfd.mid   \n",
       "3                   Main Theme  52e23ff501c107b2055d543d8249e96f43eab97e.mid   \n",
       "4  Assault on Surface Forces B  26634701e919c25fddd82b00d63d75e1dedb5326.mid   \n",
       "\n",
       "   tgdb_genres  tgdb_id tgdb_developer tgdb_publisher  \\\n",
       "0   ['Sports']    317.0       Nintendo       Nintendo   \n",
       "1  ['Shooter']   2434.0         Capcom         Capcom   \n",
       "2  ['Shooter']   2434.0         Capcom         Capcom   \n",
       "3  ['Shooter']   6434.0            NaN          Elite   \n",
       "4  ['Shooter']   1018.0         Capcom         Capcom   \n",
       "\n",
       "                         tgdb_platform              tgdb_gametitle  \\\n",
       "0  Nintendo Entertainment System (NES)               10-Yard Fight   \n",
       "1                               Arcade        1941: Counter Attack   \n",
       "2                               Arcade        1941: Counter Attack   \n",
       "3                         Commodore 64                        1942   \n",
       "4  Nintendo Entertainment System (NES)  1943: The Battle of Midway   \n",
       "\n",
       "  tgdb_releasedate tgdb_players  tgdb_rating     tgdb_esrb  \\\n",
       "0       1985-10-18            2       4.5714  E - Everyone   \n",
       "1       1990-02-01            2       6.3333           NaN   \n",
       "2       1990-02-01            2       6.3333           NaN   \n",
       "3              NaT            1       7.0000           NaN   \n",
       "4       1987-06-01            2       4.5000  E - Everyone   \n",
       "\n",
       "                                       tgdb_overview  \n",
       "0  The game is viewed in a top-down perspective a...  \n",
       "1  The goal is to shoot down enemy airplanes and ...  \n",
       "2  The goal is to shoot down enemy airplanes and ...  \n",
       "3  1942 is set in the Pacific theater of World Wa...  \n",
       "4  The game is set in the Pacific theater of Worl...  "
      ]
     },
     "execution_count": 15,
     "metadata": {},
     "output_type": "execute_result"
    }
   ],
   "source": [
    "import pandas as pd\n",
    "import numpy as np\n",
    "from ast import literal_eval\n",
    "import os\n",
    "import seaborn as sns\n",
    "import matplotlib.pyplot as plt\n",
    "%matplotlib inline\n",
    "\n",
    "df = pd.read_csv('midi_dataframe.csv', parse_dates=[11])\n",
    "num_midis_before = len(df)\n",
    "print('There is %d midi files, from %d games, with %d midis matched with tgdb'\n",
    "      %(num_midis_before,\n",
    "        len(df.groupby(['tgdb_platform', 'tgdb_gametitle'])),\n",
    "        (df.tgdb_gametitle.notnull().sum())))\n",
    "df.head()"
   ]
  },
  {
   "cell_type": "markdown",
   "metadata": {},
   "source": [
    "We keep only files matched with tgdb and check that every midi file is only present once, if not we drop the rows."
   ]
  },
  {
   "cell_type": "code",
   "execution_count": 16,
   "metadata": {},
   "outputs": [
    {
     "name": "stdout",
     "output_type": "stream",
     "text": [
      "There was 2 duplicated midi files, 31683 midis left\n"
     ]
    }
   ],
   "source": [
    "num_dup = df.duplicated(subset='file_name').sum()\n",
    "df.drop_duplicates(subset='file_name', inplace=True)\n",
    "print('There was %d duplicated midi files, %d midis left'%(num_dup, len(df)))"
   ]
  },
  {
   "cell_type": "markdown",
   "metadata": {},
   "source": [
    "Since we are interested in the genre, we only keep midis that have one."
   ]
  },
  {
   "cell_type": "code",
   "execution_count": 17,
   "metadata": {},
   "outputs": [
    {
     "name": "stdout",
     "output_type": "stream",
     "text": [
      "We removed 436 midis, 31247 midis left\n"
     ]
    }
   ],
   "source": [
    "num_genres_na = df.tgdb_genres.isnull().sum()\n",
    "df.dropna(subset=['tgdb_genres'], inplace=True)\n",
    "print(\"We removed %d midis, %d midis left\"%(num_genres_na, len(df)))"
   ]
  },
  {
   "cell_type": "markdown",
   "metadata": {},
   "source": [
    "Then, there are some categories, such as Medleys or Piano only that are not interesting.\n",
    "\n",
    "There is also a big \"remix\" scene on vgmusic, so we also remove those."
   ]
  },
  {
   "cell_type": "code",
   "execution_count": 18,
   "metadata": {},
   "outputs": [
    {
     "name": "stdout",
     "output_type": "stream",
     "text": [
      "We removed 872 midis from Medleys and Piano categories\n",
      "We removed 1860 midis containing \"remix\" in their title\n",
      "28537 midis left\n"
     ]
    }
   ],
   "source": [
    "categories_filter = df.console.isin(['Medleys', 'Piano Only'])\n",
    "remix_filter = df.title.str.contains('[Rr]emix')\n",
    "\n",
    "df = df[~categories_filter & ~remix_filter]\n",
    "print('We removed %d midis from Medleys and Piano categories'%categories_filter.sum())\n",
    "print('We removed %d midis containing \"remix\" in their title'%remix_filter.sum())\n",
    "print('%d midis left'%len(df))"
   ]
  },
  {
   "cell_type": "markdown",
   "metadata": {},
   "source": [
    "There often exists several versions of the same midi file, most of the time denoted by 'title (1)', 'title (2)', etc.\n",
    "\n",
    "We also consider removing those, but keeping only the one with the highest value, or if there are several with the same title, we randomly keep one."
   ]
  },
  {
   "cell_type": "code",
   "execution_count": 19,
   "metadata": {},
   "outputs": [
    {
     "name": "stdout",
     "output_type": "stream",
     "text": [
      "We removed 6358 midis, 22179 midis left\n"
     ]
    }
   ],
   "source": [
    "num_midis_before = len(df)\n",
    "\n",
    "df_stripped = df.copy()\n",
    "df_stripped.title = df.title.str.replace('\\(\\d+\\)', '').str.rstrip()\n",
    "df_stripped['rank'] = df.title.str.extract('\\((\\d+)\\)', expand=False)\n",
    "df = df_stripped.sort_values(by='rank', ascending=False).groupby(['brand', 'console', 'game', 'title']).first().reset_index()\n",
    "print(\"We removed %d midis, %d midis left\"%(num_midis_before-len(df), len(df)))"
   ]
  },
  {
   "cell_type": "markdown",
   "metadata": {},
   "source": [
    "We also check if the midis files are valid by using mido and trying to load them."
   ]
  },
  {
   "cell_type": "code",
   "execution_count": 21,
   "metadata": {},
   "outputs": [
    {
     "name": "stdout",
     "output_type": "stream",
     "text": [
      "We removed 117 midis, 22062 midis left\n"
     ]
    }
   ],
   "source": [
    "from mido import MidiFile\n",
    "\n",
    "bad_midis = []\n",
    "for file in df['file_name']:\n",
    "    try:\n",
    "        midi = MidiFile(\"full/\" + file)\n",
    "    except:\n",
    "        bad_midis.append(file)\n",
    "df = df.loc[df.file_name.apply(lambda x: x not in bad_midis)]\n",
    "print(\"We removed %d midis, %d midis left\"%(len(bad_midis), len(df)))"
   ]
  },
  {
   "cell_type": "markdown",
   "metadata": {},
   "source": [
    "The final numbers after preliminary data cleaning are:"
   ]
  },
  {
   "cell_type": "code",
   "execution_count": 22,
   "metadata": {},
   "outputs": [
    {
     "name": "stdout",
     "output_type": "stream",
     "text": [
      "There is 22062 midi files, from 3237 games, with 22062 midis matched with tgdb\n"
     ]
    }
   ],
   "source": [
    "num_games = len(df.groupby(['tgdb_platform', 'tgdb_gametitle']))\n",
    "print('There is %d midi files, from %d games, with %d midis matched with tgdb'\n",
    "      %(len(df),\n",
    "        num_games,\n",
    "        (df.tgdb_gametitle.notnull().sum())))"
   ]
  },
  {
   "cell_type": "markdown",
   "metadata": {},
   "source": [
    "## Data Exploration"
   ]
  },
  {
   "cell_type": "markdown",
   "metadata": {},
   "source": [
    "## General statistics\n",
    "We first begin by some general statistics about the dataset."
   ]
  },
  {
   "cell_type": "markdown",
   "metadata": {},
   "source": [
    "The number of gaming platforms is computed."
   ]
  },
  {
   "cell_type": "code",
   "execution_count": 23,
   "metadata": {},
   "outputs": [
    {
     "name": "stdout",
     "output_type": "stream",
     "text": [
      "There is 62 platforms\n"
     ]
    }
   ],
   "source": [
    "print('There is %d platforms'%df.tgdb_platform.nunique())"
   ]
  },
  {
   "cell_type": "markdown",
   "metadata": {},
   "source": [
    "Then, statistics concerning the number of games per platform are computed and plotted."
   ]
  },
  {
   "cell_type": "code",
   "execution_count": 24,
   "metadata": {},
   "outputs": [
    {
     "data": {
      "text/html": [
       "<div>\n",
       "<style scoped>\n",
       "    .dataframe tbody tr th:only-of-type {\n",
       "        vertical-align: middle;\n",
       "    }\n",
       "\n",
       "    .dataframe tbody tr th {\n",
       "        vertical-align: top;\n",
       "    }\n",
       "\n",
       "    .dataframe thead th {\n",
       "        text-align: right;\n",
       "    }\n",
       "</style>\n",
       "<table border=\"1\" class=\"dataframe\">\n",
       "  <thead>\n",
       "    <tr style=\"text-align: right;\">\n",
       "      <th></th>\n",
       "      <th>0</th>\n",
       "    </tr>\n",
       "  </thead>\n",
       "  <tbody>\n",
       "    <tr>\n",
       "      <th>count</th>\n",
       "      <td>62.000000</td>\n",
       "    </tr>\n",
       "    <tr>\n",
       "      <th>mean</th>\n",
       "      <td>52.209677</td>\n",
       "    </tr>\n",
       "    <tr>\n",
       "      <th>std</th>\n",
       "      <td>83.311609</td>\n",
       "    </tr>\n",
       "    <tr>\n",
       "      <th>min</th>\n",
       "      <td>1.000000</td>\n",
       "    </tr>\n",
       "    <tr>\n",
       "      <th>25%</th>\n",
       "      <td>3.000000</td>\n",
       "    </tr>\n",
       "    <tr>\n",
       "      <th>50%</th>\n",
       "      <td>15.000000</td>\n",
       "    </tr>\n",
       "    <tr>\n",
       "      <th>75%</th>\n",
       "      <td>67.250000</td>\n",
       "    </tr>\n",
       "    <tr>\n",
       "      <th>max</th>\n",
       "      <td>392.000000</td>\n",
       "    </tr>\n",
       "  </tbody>\n",
       "</table>\n",
       "</div>"
      ],
      "text/plain": [
       "                0\n",
       "count   62.000000\n",
       "mean    52.209677\n",
       "std     83.311609\n",
       "min      1.000000\n",
       "25%      3.000000\n",
       "50%     15.000000\n",
       "75%     67.250000\n",
       "max    392.000000"
      ]
     },
     "execution_count": 24,
     "metadata": {},
     "output_type": "execute_result"
    }
   ],
   "source": [
    "df.drop_duplicates(subset=['tgdb_platform', 'tgdb_gametitle']).groupby('tgdb_platform').size().to_frame().describe()"
   ]
  },
  {
   "cell_type": "code",
   "execution_count": 25,
   "metadata": {
    "scrolled": true
   },
   "outputs": [
    {
     "data": {
      "image/png": "[encoded data removed]",
      "text/plain": [
       "<Figure size 720x360 with 1 Axes>"
      ]
     },
     "metadata": {},
     "output_type": "display_data"
    }
   ],
   "source": [
    "size= (10, 5)\n",
    "fig, ax = plt.subplots(figsize=size)\n",
    "ax = sns.distplot(df.drop_duplicates(subset=['tgdb_platform', 'tgdb_gametitle']).groupby('tgdb_platform').size().to_frame(), ax = ax)\n",
    "ax.set_xlabel(\"number of games per platform\")\n",
    "ax.set_ylabel(\"density\")\n",
    "ax.set_title(\"Density of the number of games per platform\")\n",
    "ax.set_xticks(np.arange(0, 300, 10))\n",
    "ax.set_xlim(0,200)\n",
    "plt.show()"
   ]
  },
  {
   "cell_type": "markdown",
   "metadata": {},
   "source": [
    "It can be noted that the majority of platforms seem to have around 10 games, which is a sufficient sample size."
   ]
  },
  {
   "cell_type": "markdown",
   "metadata": {},
   "source": [
    "Following this, statistics concerning the number of midis per platform are computed and plotted."
   ]
  },
  {
   "cell_type": "code",
   "execution_count": 26,
   "metadata": {},
   "outputs": [
    {
     "data": {
      "text/html": [
       "<div>\n",
       "<style scoped>\n",
       "    .dataframe tbody tr th:only-of-type {\n",
       "        vertical-align: middle;\n",
       "    }\n",
       "\n",
       "    .dataframe tbody tr th {\n",
       "        vertical-align: top;\n",
       "    }\n",
       "\n",
       "    .dataframe thead th {\n",
       "        text-align: right;\n",
       "    }\n",
       "</style>\n",
       "<table border=\"1\" class=\"dataframe\">\n",
       "  <thead>\n",
       "    <tr style=\"text-align: right;\">\n",
       "      <th></th>\n",
       "      <th>0</th>\n",
       "    </tr>\n",
       "  </thead>\n",
       "  <tbody>\n",
       "    <tr>\n",
       "      <th>count</th>\n",
       "      <td>62.000000</td>\n",
       "    </tr>\n",
       "    <tr>\n",
       "      <th>mean</th>\n",
       "      <td>355.838710</td>\n",
       "    </tr>\n",
       "    <tr>\n",
       "      <th>std</th>\n",
       "      <td>711.602329</td>\n",
       "    </tr>\n",
       "    <tr>\n",
       "      <th>min</th>\n",
       "      <td>1.000000</td>\n",
       "    </tr>\n",
       "    <tr>\n",
       "      <th>25%</th>\n",
       "      <td>8.000000</td>\n",
       "    </tr>\n",
       "    <tr>\n",
       "      <th>50%</th>\n",
       "      <td>53.500000</td>\n",
       "    </tr>\n",
       "    <tr>\n",
       "      <th>75%</th>\n",
       "      <td>302.500000</td>\n",
       "    </tr>\n",
       "    <tr>\n",
       "      <th>max</th>\n",
       "      <td>4121.000000</td>\n",
       "    </tr>\n",
       "  </tbody>\n",
       "</table>\n",
       "</div>"
      ],
      "text/plain": [
       "                 0\n",
       "count    62.000000\n",
       "mean    355.838710\n",
       "std     711.602329\n",
       "min       1.000000\n",
       "25%       8.000000\n",
       "50%      53.500000\n",
       "75%     302.500000\n",
       "max    4121.000000"
      ]
     },
     "execution_count": 26,
     "metadata": {},
     "output_type": "execute_result"
    }
   ],
   "source": [
    "df.groupby('tgdb_platform').size().to_frame().describe()"
   ]
  },
  {
   "cell_type": "code",
   "execution_count": 27,
   "metadata": {},
   "outputs": [
    {
     "data": {
      "image/png": "[encoded data removed]",
      "text/plain": [
       "<Figure size 720x360 with 1 Axes>"
      ]
     },
     "metadata": {},
     "output_type": "display_data"
    }
   ],
   "source": [
    "fig, ax = plt.subplots(figsize=size)\n",
    "ax = sns.distplot(df.groupby('tgdb_platform').size().to_frame())\n",
    "ax.set_xlabel(\"number of midi per platform\")\n",
    "ax.set_ylabel(\"density\")\n",
    "ax.set_title(\"Density of the number of midis per platform\")\n",
    "ax.set_xticks(np.arange(0, 1000, 50))\n",
    "ax.set_xlim(0,1500)\n",
    "plt.show()"
   ]
  },
  {
   "cell_type": "markdown",
   "metadata": {},
   "source": [
    "It can be noted that the majority of platform have around 50 midis, which is again judged to be a sufficient sample for analysis."
   ]
  },
  {
   "cell_type": "markdown",
   "metadata": {},
   "source": [
    "Finally, statistics concerning the number of midi per game are computed and plotted."
   ]
  },
  {
   "cell_type": "code",
   "execution_count": 28,
   "metadata": {},
   "outputs": [
    {
     "data": {
      "text/html": [
       "<div>\n",
       "<style scoped>\n",
       "    .dataframe tbody tr th:only-of-type {\n",
       "        vertical-align: middle;\n",
       "    }\n",
       "\n",
       "    .dataframe tbody tr th {\n",
       "        vertical-align: top;\n",
       "    }\n",
       "\n",
       "    .dataframe thead th {\n",
       "        text-align: right;\n",
       "    }\n",
       "</style>\n",
       "<table border=\"1\" class=\"dataframe\">\n",
       "  <thead>\n",
       "    <tr style=\"text-align: right;\">\n",
       "      <th></th>\n",
       "      <th>0</th>\n",
       "    </tr>\n",
       "  </thead>\n",
       "  <tbody>\n",
       "    <tr>\n",
       "      <th>count</th>\n",
       "      <td>3237.000000</td>\n",
       "    </tr>\n",
       "    <tr>\n",
       "      <th>mean</th>\n",
       "      <td>6.815570</td>\n",
       "    </tr>\n",
       "    <tr>\n",
       "      <th>std</th>\n",
       "      <td>11.900116</td>\n",
       "    </tr>\n",
       "    <tr>\n",
       "      <th>min</th>\n",
       "      <td>1.000000</td>\n",
       "    </tr>\n",
       "    <tr>\n",
       "      <th>25%</th>\n",
       "      <td>1.000000</td>\n",
       "    </tr>\n",
       "    <tr>\n",
       "      <th>50%</th>\n",
       "      <td>2.000000</td>\n",
       "    </tr>\n",
       "    <tr>\n",
       "      <th>75%</th>\n",
       "      <td>7.000000</td>\n",
       "    </tr>\n",
       "    <tr>\n",
       "      <th>max</th>\n",
       "      <td>147.000000</td>\n",
       "    </tr>\n",
       "  </tbody>\n",
       "</table>\n",
       "</div>"
      ],
      "text/plain": [
       "                 0\n",
       "count  3237.000000\n",
       "mean      6.815570\n",
       "std      11.900116\n",
       "min       1.000000\n",
       "25%       1.000000\n",
       "50%       2.000000\n",
       "75%       7.000000\n",
       "max     147.000000"
      ]
     },
     "execution_count": 28,
     "metadata": {},
     "output_type": "execute_result"
    }
   ],
   "source": [
    "df.groupby(['tgdb_platform', 'tgdb_gametitle']).size().to_frame().describe()"
   ]
  },
  {
   "cell_type": "code",
   "execution_count": 38,
   "metadata": {},
   "outputs": [
    {
     "data": {
      "image/png": "[encoded data removed]",
      "text/plain": [
       "<Figure size 720x360 with 1 Axes>"
      ]
     },
     "metadata": {},
     "output_type": "display_data"
    }
   ],
   "source": [
    "fig, ax = plt.subplots(figsize=size)\n",
    "ax = sns.distplot(df.groupby(['tgdb_platform', 'tgdb_gametitle']).size().to_frame())\n",
    "ax.set_xlabel(\"number of midi per game\")\n",
    "ax.set_ylabel(\"density\")\n",
    "ax.set_title(\"Density of the number of midi per game\")\n",
    "ax.set_xticks(np.arange(0, 40, 2))\n",
    "ax.set_xlim(0,40)\n",
    "plt.show()"
   ]
  },
  {
   "cell_type": "markdown",
   "metadata": {},
   "source": [
    "It can be noted that the peak of density is at 2 midi per game. This does not matter much as we are not trying to classify music per game, but by genres."
   ]
  },
  {
   "cell_type": "markdown",
   "metadata": {},
   "source": [
    "As a general remark, it can be noticed that most of the data we have follow power laws."
   ]
  },
  {
   "cell_type": "markdown",
   "metadata": {},
   "source": [
    "### Genres analysis\n",
    "We currently had list of genres, for more convenience, we rework the dataframe to make several row of a midi if it had several genres."
   ]
  },
  {
   "cell_type": "code",
   "execution_count": 14,
   "metadata": {},
   "outputs": [
    {
     "name": "stdout",
     "output_type": "stream",
     "text": [
      "There is 19 different genres\n"
     ]
    }
   ],
   "source": [
    "genres = df.tgdb_genres.map(literal_eval, 'ignore').apply(pd.Series).stack().reset_index(level=1, drop=True)\n",
    "genres.name = 'tgdb_genres'\n",
    "genres_df = df.drop('tgdb_genres', axis=1).join(genres)\n",
    "\n",
    "print(\"There is %d different genres\"%genres_df.tgdb_genres.nunique())"
   ]
  },
  {
   "cell_type": "code",
   "execution_count": 15,
   "metadata": {
    "collapsed": true
   },
   "outputs": [],
   "source": [
    "genres_df.to_csv(\"midi_dataframe_cleaned.csv\")"
   ]
  },
  {
   "cell_type": "markdown",
   "metadata": {},
   "source": [
    "Here follows the percentage of games belonging to each genre and of midis for each genres."
   ]
  },
  {
   "cell_type": "code",
   "execution_count": 16,
   "metadata": {},
   "outputs": [
    {
     "data": {
      "text/html": [
       "<div>\n",
       "<style scoped>\n",
       "    .dataframe tbody tr th:only-of-type {\n",
       "        vertical-align: middle;\n",
       "    }\n",
       "\n",
       "    .dataframe tbody tr th {\n",
       "        vertical-align: top;\n",
       "    }\n",
       "\n",
       "    .dataframe thead th {\n",
       "        text-align: right;\n",
       "    }\n",
       "</style>\n",
       "<table border=\"1\" class=\"dataframe\">\n",
       "  <thead>\n",
       "    <tr style=\"text-align: right;\">\n",
       "      <th></th>\n",
       "      <th>0</th>\n",
       "    </tr>\n",
       "    <tr>\n",
       "      <th>tgdb_genres</th>\n",
       "      <th></th>\n",
       "    </tr>\n",
       "  </thead>\n",
       "  <tbody>\n",
       "    <tr>\n",
       "      <th>Action</th>\n",
       "      <td>35.166873</td>\n",
       "    </tr>\n",
       "    <tr>\n",
       "      <th>Role-Playing</th>\n",
       "      <td>10.321384</td>\n",
       "    </tr>\n",
       "    <tr>\n",
       "      <th>Platform</th>\n",
       "      <td>9.394314</td>\n",
       "    </tr>\n",
       "    <tr>\n",
       "      <th>Shooter</th>\n",
       "      <td>9.177998</td>\n",
       "    </tr>\n",
       "    <tr>\n",
       "      <th>Fighting</th>\n",
       "      <td>8.498146</td>\n",
       "    </tr>\n",
       "    <tr>\n",
       "      <th>Adventure</th>\n",
       "      <td>6.736712</td>\n",
       "    </tr>\n",
       "    <tr>\n",
       "      <th>Puzzle</th>\n",
       "      <td>5.469716</td>\n",
       "    </tr>\n",
       "    <tr>\n",
       "      <th>Racing</th>\n",
       "      <td>4.388133</td>\n",
       "    </tr>\n",
       "    <tr>\n",
       "      <th>Sports</th>\n",
       "      <td>4.295426</td>\n",
       "    </tr>\n",
       "    <tr>\n",
       "      <th>Strategy</th>\n",
       "      <td>3.275649</td>\n",
       "    </tr>\n",
       "    <tr>\n",
       "      <th>Life Simulation</th>\n",
       "      <td>0.834363</td>\n",
       "    </tr>\n",
       "    <tr>\n",
       "      <th>Music</th>\n",
       "      <td>0.618047</td>\n",
       "    </tr>\n",
       "    <tr>\n",
       "      <th>Flight Simulator</th>\n",
       "      <td>0.494438</td>\n",
       "    </tr>\n",
       "    <tr>\n",
       "      <th>MMO</th>\n",
       "      <td>0.370828</td>\n",
       "    </tr>\n",
       "    <tr>\n",
       "      <th>Construction and Management Simulation</th>\n",
       "      <td>0.370828</td>\n",
       "    </tr>\n",
       "    <tr>\n",
       "      <th>Horror</th>\n",
       "      <td>0.278121</td>\n",
       "    </tr>\n",
       "    <tr>\n",
       "      <th>Stealth</th>\n",
       "      <td>0.247219</td>\n",
       "    </tr>\n",
       "    <tr>\n",
       "      <th>Sandbox</th>\n",
       "      <td>0.030902</td>\n",
       "    </tr>\n",
       "    <tr>\n",
       "      <th>Vehicle Simulation</th>\n",
       "      <td>0.030902</td>\n",
       "    </tr>\n",
       "  </tbody>\n",
       "</table>\n",
       "</div>"
      ],
      "text/plain": [
       "                                                0\n",
       "tgdb_genres                                      \n",
       "Action                                  35.166873\n",
       "Role-Playing                            10.321384\n",
       "Platform                                 9.394314\n",
       "Shooter                                  9.177998\n",
       "Fighting                                 8.498146\n",
       "Adventure                                6.736712\n",
       "Puzzle                                   5.469716\n",
       "Racing                                   4.388133\n",
       "Sports                                   4.295426\n",
       "Strategy                                 3.275649\n",
       "Life Simulation                          0.834363\n",
       "Music                                    0.618047\n",
       "Flight Simulator                         0.494438\n",
       "MMO                                      0.370828\n",
       "Construction and Management Simulation   0.370828\n",
       "Horror                                   0.278121\n",
       "Stealth                                  0.247219\n",
       "Sandbox                                  0.030902\n",
       "Vehicle Simulation                       0.030902"
      ]
     },
     "execution_count": 16,
     "metadata": {},
     "output_type": "execute_result"
    }
   ],
   "source": [
    "genres_df.drop_duplicates(subset=['tgdb_platform', 'tgdb_gametitle'])\\\n",
    "    .groupby(['tgdb_genres']).size().to_frame()\\\n",
    "    .sort_values(0, ascending = False)/num_games*100"
   ]
  },
  {
   "cell_type": "markdown",
   "metadata": {},
   "source": [
    "The number of genres is 19, and could be reduced to 10 if we consider only the genres for which we have at least 3% dataset coverage or 5 if we consider only the genres for which we have at least 9% dataset coverage."
   ]
  }
 ],
 "metadata": {
  "kernelspec": {
   "display_name": "Python 3",
   "language": "python",
   "name": "python3"
  },
  "language_info": {
   "codemirror_mode": {
    "name": "ipython",
    "version": 3
   },
   "file_extension": ".py",
   "mimetype": "text/x-python",
   "name": "python",
   "nbconvert_exporter": "python",
   "pygments_lexer": "ipython3",
   "version": "3.6.4"
  }
 },
 "nbformat": 4,
 "nbformat_minor": 2
}
