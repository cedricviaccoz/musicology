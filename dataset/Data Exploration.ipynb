{
 "cells": [
  {
   "cell_type": "code",
   "execution_count": 249,
   "metadata": {},
   "outputs": [
    {
     "name": "stdout",
     "output_type": "stream",
     "text": [
      "There is 31685 midi files, from 3918 games, with 31249 midis matched with tgdb\n"
     ]
    },
    {
     "data": {
      "text/html": [
       "<div>\n",
       "<style scoped>\n",
       "    .dataframe tbody tr th:only-of-type {\n",
       "        vertical-align: middle;\n",
       "    }\n",
       "\n",
       "    .dataframe tbody tr th {\n",
       "        vertical-align: top;\n",
       "    }\n",
       "\n",
       "    .dataframe thead th {\n",
       "        text-align: right;\n",
       "    }\n",
       "</style>\n",
       "<table border=\"1\" class=\"dataframe\">\n",
       "  <thead>\n",
       "    <tr style=\"text-align: right;\">\n",
       "      <th></th>\n",
       "      <th>brand</th>\n",
       "      <th>console</th>\n",
       "      <th>game</th>\n",
       "      <th>title</th>\n",
       "      <th>file_name</th>\n",
       "      <th>tgdb_genres</th>\n",
       "      <th>tgdb_id</th>\n",
       "      <th>tgdb_developer</th>\n",
       "      <th>tgdb_publisher</th>\n",
       "      <th>tgdb_platform</th>\n",
       "      <th>tgdb_gametitle</th>\n",
       "      <th>tgdb_releasedate</th>\n",
       "      <th>tgdb_players</th>\n",
       "      <th>tgdb_rating</th>\n",
       "      <th>tgdb_esrb</th>\n",
       "      <th>tgdb_overview</th>\n",
       "    </tr>\n",
       "  </thead>\n",
       "  <tbody>\n",
       "    <tr>\n",
       "      <th>0</th>\n",
       "      <td>Nintendo</td>\n",
       "      <td>NES</td>\n",
       "      <td>10-Yard Fight</td>\n",
       "      <td>Kick Off</td>\n",
       "      <td>b5da1581fd2b425122446a638363a28296aee817.mid</td>\n",
       "      <td>['Sports']</td>\n",
       "      <td>317.0</td>\n",
       "      <td>Nintendo</td>\n",
       "      <td>Nintendo</td>\n",
       "      <td>Nintendo Entertainment System (NES)</td>\n",
       "      <td>10-Yard Fight</td>\n",
       "      <td>1985-10-18</td>\n",
       "      <td>2</td>\n",
       "      <td>4.5714</td>\n",
       "      <td>E - Everyone</td>\n",
       "      <td>The game is viewed in a top-down perspective a...</td>\n",
       "    </tr>\n",
       "    <tr>\n",
       "      <th>1</th>\n",
       "      <td>Miscellaneous</td>\n",
       "      <td>Arcade</td>\n",
       "      <td>1941: Counter Attack</td>\n",
       "      <td>Krote Armor Stage</td>\n",
       "      <td>efe29bdfc97d46a327467ea5d6e36bff6edc4223.mid</td>\n",
       "      <td>['Shooter']</td>\n",
       "      <td>2434.0</td>\n",
       "      <td>Capcom</td>\n",
       "      <td>Capcom</td>\n",
       "      <td>Arcade</td>\n",
       "      <td>1941: Counter Attack</td>\n",
       "      <td>1990-02-01</td>\n",
       "      <td>2</td>\n",
       "      <td>6.3333</td>\n",
       "      <td>NaN</td>\n",
       "      <td>The goal is to shoot down enemy airplanes and ...</td>\n",
       "    </tr>\n",
       "    <tr>\n",
       "      <th>2</th>\n",
       "      <td>Miscellaneous</td>\n",
       "      <td>Arcade</td>\n",
       "      <td>1941: Counter Attack</td>\n",
       "      <td>Level 6 Section 1</td>\n",
       "      <td>a356a1fd4960e4faa875c13bf7d03cfef3255cfd.mid</td>\n",
       "      <td>['Shooter']</td>\n",
       "      <td>2434.0</td>\n",
       "      <td>Capcom</td>\n",
       "      <td>Capcom</td>\n",
       "      <td>Arcade</td>\n",
       "      <td>1941: Counter Attack</td>\n",
       "      <td>1990-02-01</td>\n",
       "      <td>2</td>\n",
       "      <td>6.3333</td>\n",
       "      <td>NaN</td>\n",
       "      <td>The goal is to shoot down enemy airplanes and ...</td>\n",
       "    </tr>\n",
       "    <tr>\n",
       "      <th>3</th>\n",
       "      <td>Computer Systems</td>\n",
       "      <td>Commodore 64</td>\n",
       "      <td>1942</td>\n",
       "      <td>Main Theme</td>\n",
       "      <td>52e23ff501c107b2055d543d8249e96f43eab97e.mid</td>\n",
       "      <td>['Shooter']</td>\n",
       "      <td>6434.0</td>\n",
       "      <td>NaN</td>\n",
       "      <td>Elite</td>\n",
       "      <td>Commodore 64</td>\n",
       "      <td>1942</td>\n",
       "      <td>NaT</td>\n",
       "      <td>1</td>\n",
       "      <td>7.0000</td>\n",
       "      <td>NaN</td>\n",
       "      <td>1942 is set in the Pacific theater of World Wa...</td>\n",
       "    </tr>\n",
       "    <tr>\n",
       "      <th>4</th>\n",
       "      <td>Nintendo</td>\n",
       "      <td>NES</td>\n",
       "      <td>1943</td>\n",
       "      <td>Assault on Surface Forces B</td>\n",
       "      <td>26634701e919c25fddd82b00d63d75e1dedb5326.mid</td>\n",
       "      <td>['Shooter']</td>\n",
       "      <td>1018.0</td>\n",
       "      <td>Capcom</td>\n",
       "      <td>Capcom</td>\n",
       "      <td>Nintendo Entertainment System (NES)</td>\n",
       "      <td>1943: The Battle of Midway</td>\n",
       "      <td>1987-06-01</td>\n",
       "      <td>2</td>\n",
       "      <td>4.5000</td>\n",
       "      <td>E - Everyone</td>\n",
       "      <td>The game is set in the Pacific theater of Worl...</td>\n",
       "    </tr>\n",
       "  </tbody>\n",
       "</table>\n",
       "</div>"
      ],
      "text/plain": [
       "              brand       console                  game  \\\n",
       "0          Nintendo           NES         10-Yard Fight   \n",
       "1     Miscellaneous        Arcade  1941: Counter Attack   \n",
       "2     Miscellaneous        Arcade  1941: Counter Attack   \n",
       "3  Computer Systems  Commodore 64                  1942   \n",
       "4          Nintendo           NES                  1943   \n",
       "\n",
       "                         title                                     file_name  \\\n",
       "0                     Kick Off  b5da1581fd2b425122446a638363a28296aee817.mid   \n",
       "1            Krote Armor Stage  efe29bdfc97d46a327467ea5d6e36bff6edc4223.mid   \n",
       "2            Level 6 Section 1  a356a1fd4960e4faa875c13bf7d03cfef3255cfd.mid   \n",
       "3                   Main Theme  52e23ff501c107b2055d543d8249e96f43eab97e.mid   \n",
       "4  Assault on Surface Forces B  26634701e919c25fddd82b00d63d75e1dedb5326.mid   \n",
       "\n",
       "   tgdb_genres  tgdb_id tgdb_developer tgdb_publisher  \\\n",
       "0   ['Sports']    317.0       Nintendo       Nintendo   \n",
       "1  ['Shooter']   2434.0         Capcom         Capcom   \n",
       "2  ['Shooter']   2434.0         Capcom         Capcom   \n",
       "3  ['Shooter']   6434.0            NaN          Elite   \n",
       "4  ['Shooter']   1018.0         Capcom         Capcom   \n",
       "\n",
       "                         tgdb_platform              tgdb_gametitle  \\\n",
       "0  Nintendo Entertainment System (NES)               10-Yard Fight   \n",
       "1                               Arcade        1941: Counter Attack   \n",
       "2                               Arcade        1941: Counter Attack   \n",
       "3                         Commodore 64                        1942   \n",
       "4  Nintendo Entertainment System (NES)  1943: The Battle of Midway   \n",
       "\n",
       "  tgdb_releasedate tgdb_players  tgdb_rating     tgdb_esrb  \\\n",
       "0       1985-10-18            2       4.5714  E - Everyone   \n",
       "1       1990-02-01            2       6.3333           NaN   \n",
       "2       1990-02-01            2       6.3333           NaN   \n",
       "3              NaT            1       7.0000           NaN   \n",
       "4       1987-06-01            2       4.5000  E - Everyone   \n",
       "\n",
       "                                       tgdb_overview  \n",
       "0  The game is viewed in a top-down perspective a...  \n",
       "1  The goal is to shoot down enemy airplanes and ...  \n",
       "2  The goal is to shoot down enemy airplanes and ...  \n",
       "3  1942 is set in the Pacific theater of World Wa...  \n",
       "4  The game is set in the Pacific theater of Worl...  "
      ]
     },
     "execution_count": 249,
     "metadata": {},
     "output_type": "execute_result"
    }
   ],
   "source": [
    "import pandas as pd\n",
    "\n",
    "df = pd.read_csv('midi_dataframe.csv', parse_dates=[11])\n",
    "num_midis_before = len(df)\n",
    "print('There is %d midi files, from %d games, with %d midis matched with tgdb'\n",
    "      %(num_midis_before,\n",
    "        len(df.groupby(['brand', 'console', 'game'])),\n",
    "        (df.tgdb_gametitle.notnull().sum())))\n",
    "df.head()"
   ]
  },
  {
   "cell_type": "markdown",
   "metadata": {},
   "source": [
    "We first check that every midi file is only present once, if not we drop the rows."
   ]
  },
  {
   "cell_type": "code",
   "execution_count": 250,
   "metadata": {},
   "outputs": [
    {
     "name": "stdout",
     "output_type": "stream",
     "text": [
      "There was 2 duplicated midi files, 31683 midis left\n"
     ]
    }
   ],
   "source": [
    "num_dup = df.duplicated(subset='file_name').sum()\n",
    "df.drop_duplicates(subset='file_name', inplace=True)\n",
    "print('There was %d duplicated midi files, %d midis left'%(num_dup, len(df)))"
   ]
  },
  {
   "cell_type": "markdown",
   "metadata": {},
   "source": [
    "Since we are interested in the genre, we only keep midis that have one."
   ]
  },
  {
   "cell_type": "code",
   "execution_count": 251,
   "metadata": {},
   "outputs": [
    {
     "name": "stdout",
     "output_type": "stream",
     "text": [
      "We removed 436 midis, 31247 midis left\n"
     ]
    }
   ],
   "source": [
    "num_genres_na = df.tgdb_genres.isnull().sum()\n",
    "df.dropna(subset=['tgdb_genres'], inplace=True)\n",
    "print(\"We removed %d midis, %d midis left\"%(num_genres_na, len(df)))"
   ]
  },
  {
   "cell_type": "markdown",
   "metadata": {},
   "source": [
    "Then, there are some categories, such as Medleys or Piano only that are not interesting.\n",
    "\n",
    "There is also a big \"remix\" scene on vgmusic, so we also remove those."
   ]
  },
  {
   "cell_type": "code",
   "execution_count": 252,
   "metadata": {},
   "outputs": [
    {
     "name": "stdout",
     "output_type": "stream",
     "text": [
      "We removed 872 midis from Medleys and Piano categories\n",
      "We removed 1860 midis containing \"remix\" in their title\n",
      "28537 midis left\n"
     ]
    }
   ],
   "source": [
    "categories_filter = df.console.isin(['Medleys', 'Piano Only'])\n",
    "remix_filter = df.title.str.contains('[Rr]emix')\n",
    "\n",
    "df = df[~categories_filter & ~remix_filter]\n",
    "print('We removed %d midis from Medleys and Piano categories'%categories_filter.sum())\n",
    "print('We removed %d midis containing \"remix\" in their title'%remix_filter.sum())\n",
    "print('%d midis left'%len(df))"
   ]
  },
  {
   "cell_type": "markdown",
   "metadata": {},
   "source": [
    "There often exists several versions of the same midi file, most of the time denoted by 'title (1)', 'title (2)', etc.\n",
    "\n",
    "We also consider removing those, but keeping only the one with the highest value, or if there are several with the same title, we randomly keep one."
   ]
  },
  {
   "cell_type": "code",
   "execution_count": 253,
   "metadata": {},
   "outputs": [
    {
     "name": "stdout",
     "output_type": "stream",
     "text": [
      "We removed 6358 midis, 22179 midis left\n"
     ]
    }
   ],
   "source": [
    "num_midis_before = len(df)\n",
    "\n",
    "df_stripped = df.copy()\n",
    "df_stripped.title = df.title.str.replace('\\(\\d+\\)', '').str.rstrip()\n",
    "df_stripped['rank'] = df.title.str.extract('\\((\\d+)\\)', expand=False)\n",
    "df = df_stripped.sort_values(by='rank', ascending=False).groupby(['brand', 'console', 'game', 'title']).first().reset_index()\n",
    "print(\"We removed %d midis, %d midis left\"%(num_midis_before-len(df), len(df)))"
   ]
  }
 ],
 "metadata": {
  "kernelspec": {
   "display_name": "Python 3",
   "language": "python",
   "name": "python3"
  },
  "language_info": {
   "codemirror_mode": {
    "name": "ipython",
    "version": 3
   },
   "file_extension": ".py",
   "mimetype": "text/x-python",
   "name": "python",
   "nbconvert_exporter": "python",
   "pygments_lexer": "ipython3",
   "version": "3.6.4"
  }
 },
 "nbformat": 4,
 "nbformat_minor": 2
}
